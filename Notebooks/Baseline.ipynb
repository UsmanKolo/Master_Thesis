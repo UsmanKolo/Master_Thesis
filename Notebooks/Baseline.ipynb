{
 "cells": [
  {
   "cell_type": "code",
   "execution_count": null,
   "metadata": {},
   "outputs": [],
   "source": [
    "import pandas as pd\n",
    "import numpy as np\n",
    "import matplotlib.pyplot as plt\n",
    "plt.rcParams[\"figure.figsize\"] = (20,9)\n",
    "plt.style.use('bmh')\n",
    "from datetime import timedelta\n",
    "from keras.models import *\n",
    "from keras.layers import *\n",
    "from sklearn.preprocessing import *\n",
    "import seaborn as sns"
   ]
  },
  {
   "cell_type": "code",
   "execution_count": null,
   "metadata": {},
   "outputs": [],
   "source": [
    "# Load Dataset\n",
    "def preprocess(file):\n",
    "    data = pd.read_csv(file)\n",
    "    HUElec = pd.melt(data, id_vars=[\"Date\"], var_name='time')\n",
    "    HUElec['time'] = pd.to_timedelta(HUElec['time'].apply(lambda t: f\"{t[:5]}:00\")) - timedelta(minutes=30)\n",
    "    HUElec['Date'] = pd.to_datetime(HUElec['Date'], format=\"%m/%d/%Y\")\n",
    "    HUElec['Datetime'] = HUElec['Date'] + HUElec['time']\n",
    "    HUElec = HUElec.set_index('Datetime')\n",
    "    HUElec = HUElec.drop(['Date', 'time'], axis=1).sort_index()\n",
    "\n",
    "    return HUElec"
   ]
  },
  {
   "cell_type": "code",
   "execution_count": null,
   "metadata": {},
   "outputs": [],
   "source": [
    "file = 'C:\\Users\\moham\\OneDrive - De Montfort University\\Final Project\\Master_Thesis\\Dataset\\QBElec.csv'\n",
    "\n",
    "data = preprocess(file)"
   ]
  },
  {
   "cell_type": "code",
   "execution_count": null,
   "metadata": {},
   "outputs": [],
   "source": [
    "df = data.resample(rule='d').sum()\n",
    "\n",
    "df.head()"
   ]
  },
  {
   "cell_type": "code",
   "execution_count": null,
   "metadata": {},
   "outputs": [],
   "source": [
    "df['value_next_day'] = df['value'].shift(-1)"
   ]
  },
  {
   "cell_type": "code",
   "execution_count": null,
   "metadata": {},
   "outputs": [],
   "source": [
    "df = df.dropna(how='any', axis=0)\n",
    "\n",
    "df.tail()"
   ]
  },
  {
   "cell_type": "code",
   "execution_count": null,
   "metadata": {},
   "outputs": [],
   "source": [
    "y_true = df['value']\n",
    "y_pred = df['value_next_day']"
   ]
  },
  {
   "cell_type": "code",
   "execution_count": null,
   "metadata": {},
   "outputs": [],
   "source": [
    "from sklearn.metrics import *\n",
    "\n",
    "print('RMSE: ', np.sqrt(mean_squared_error(y_true, y_pred)))\n",
    "print('MSE: ', mean_squared_error(y_true, y_pred))\n",
    "print('MAE: ', mean_absolute_error(y_true, y_pred))\n",
    "print('MAPE: ', mean_absolute_percentage_error(y_true, y_pred)*100)\n",
    "print('R2: ', r2_score(y_true, y_pred)*100)"
   ]
  }
 ],
 "metadata": {
  "interpreter": {
   "hash": "639f361ad657fd45530bdd3e74f62afebc8edc35ba6ab7eef1042ba440bc9585"
  },
  "kernelspec": {
   "display_name": "Python 3.9.0 64-bit",
   "language": "python",
   "name": "python3"
  },
  "language_info": {
   "codemirror_mode": {
    "name": "ipython",
    "version": 3
   },
   "file_extension": ".py",
   "mimetype": "text/x-python",
   "name": "python",
   "nbconvert_exporter": "python",
   "pygments_lexer": "ipython3",
   "version": "3.9.0"
  },
  "orig_nbformat": 4
 },
 "nbformat": 4,
 "nbformat_minor": 2
}
