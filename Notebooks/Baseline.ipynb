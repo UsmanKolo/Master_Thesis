{
 "cells": [
  {
   "cell_type": "code",
   "execution_count": 1,
   "metadata": {},
   "outputs": [],
   "source": [
    "import pandas as pd\n",
    "import numpy as np\n",
    "import matplotlib.pyplot as plt\n",
    "plt.rcParams[\"figure.figsize\"] = (20,9)\n",
    "plt.style.use('bmh')\n",
    "from datetime import timedelta\n",
    "from keras.models import *\n",
    "from keras.layers import *\n",
    "from sklearn.preprocessing import *\n",
    "import seaborn as sns"
   ]
  },
  {
   "cell_type": "code",
   "execution_count": 2,
   "metadata": {},
   "outputs": [],
   "source": [
    "# Load Dataset\n",
    "def preprocess(file):\n",
    "    data = pd.read_csv(file)\n",
    "    HUElec = pd.melt(data, id_vars=[\"Date\"], var_name='time')\n",
    "    HUElec['time'] = pd.to_timedelta(HUElec['time'].apply(lambda t: f\"{t[:5]}:00\")) - timedelta(minutes=30)\n",
    "    HUElec['Date'] = pd.to_datetime(HUElec['Date'], format=\"%m/%d/%Y\")\n",
    "    HUElec['Datetime'] = HUElec['Date'] + HUElec['time']\n",
    "    HUElec = HUElec.set_index('Datetime')\n",
    "    HUElec = HUElec.drop(['Date', 'time'], axis=1).sort_index()\n",
    "\n",
    "    return HUElec"
   ]
  },
  {
   "cell_type": "code",
   "execution_count": 3,
   "metadata": {},
   "outputs": [],
   "source": [
    "file = 'GTWYGas.csv'\n",
    "\n",
    "data = preprocess(file)"
   ]
  },
  {
   "cell_type": "code",
   "execution_count": 4,
   "metadata": {},
   "outputs": [
    {
     "data": {
      "text/html": [
       "<div>\n",
       "<style scoped>\n",
       "    .dataframe tbody tr th:only-of-type {\n",
       "        vertical-align: middle;\n",
       "    }\n",
       "\n",
       "    .dataframe tbody tr th {\n",
       "        vertical-align: top;\n",
       "    }\n",
       "\n",
       "    .dataframe thead th {\n",
       "        text-align: right;\n",
       "    }\n",
       "</style>\n",
       "<table border=\"1\" class=\"dataframe\">\n",
       "  <thead>\n",
       "    <tr style=\"text-align: right;\">\n",
       "      <th></th>\n",
       "      <th>value</th>\n",
       "    </tr>\n",
       "    <tr>\n",
       "      <th>Datetime</th>\n",
       "      <th></th>\n",
       "    </tr>\n",
       "  </thead>\n",
       "  <tbody>\n",
       "    <tr>\n",
       "      <th>2008-05-07</th>\n",
       "      <td>164.847</td>\n",
       "    </tr>\n",
       "    <tr>\n",
       "      <th>2008-05-08</th>\n",
       "      <td>282.808</td>\n",
       "    </tr>\n",
       "    <tr>\n",
       "      <th>2008-05-09</th>\n",
       "      <td>273.726</td>\n",
       "    </tr>\n",
       "    <tr>\n",
       "      <th>2008-05-10</th>\n",
       "      <td>182.219</td>\n",
       "    </tr>\n",
       "    <tr>\n",
       "      <th>2008-05-11</th>\n",
       "      <td>182.238</td>\n",
       "    </tr>\n",
       "  </tbody>\n",
       "</table>\n",
       "</div>"
      ],
      "text/plain": [
       "              value\n",
       "Datetime           \n",
       "2008-05-07  164.847\n",
       "2008-05-08  282.808\n",
       "2008-05-09  273.726\n",
       "2008-05-10  182.219\n",
       "2008-05-11  182.238"
      ]
     },
     "execution_count": 4,
     "metadata": {},
     "output_type": "execute_result"
    }
   ],
   "source": [
    "df = data.resample(rule='d').sum()\n",
    "\n",
    "df.head()"
   ]
  },
  {
   "cell_type": "code",
   "execution_count": 5,
   "metadata": {},
   "outputs": [],
   "source": [
    "df['value_next_day'] = df['value'].shift(-1)"
   ]
  },
  {
   "cell_type": "code",
   "execution_count": 6,
   "metadata": {},
   "outputs": [
    {
     "data": {
      "text/html": [
       "<div>\n",
       "<style scoped>\n",
       "    .dataframe tbody tr th:only-of-type {\n",
       "        vertical-align: middle;\n",
       "    }\n",
       "\n",
       "    .dataframe tbody tr th {\n",
       "        vertical-align: top;\n",
       "    }\n",
       "\n",
       "    .dataframe thead th {\n",
       "        text-align: right;\n",
       "    }\n",
       "</style>\n",
       "<table border=\"1\" class=\"dataframe\">\n",
       "  <thead>\n",
       "    <tr style=\"text-align: right;\">\n",
       "      <th></th>\n",
       "      <th>value</th>\n",
       "      <th>value_next_day</th>\n",
       "    </tr>\n",
       "    <tr>\n",
       "      <th>Datetime</th>\n",
       "      <th></th>\n",
       "      <th></th>\n",
       "    </tr>\n",
       "  </thead>\n",
       "  <tbody>\n",
       "    <tr>\n",
       "      <th>2022-02-23</th>\n",
       "      <td>4811.995</td>\n",
       "      <td>4354.241</td>\n",
       "    </tr>\n",
       "    <tr>\n",
       "      <th>2022-02-24</th>\n",
       "      <td>4354.241</td>\n",
       "      <td>4421.232</td>\n",
       "    </tr>\n",
       "    <tr>\n",
       "      <th>2022-02-25</th>\n",
       "      <td>4421.232</td>\n",
       "      <td>189.805</td>\n",
       "    </tr>\n",
       "    <tr>\n",
       "      <th>2022-02-26</th>\n",
       "      <td>189.805</td>\n",
       "      <td>200.970</td>\n",
       "    </tr>\n",
       "    <tr>\n",
       "      <th>2022-02-27</th>\n",
       "      <td>200.970</td>\n",
       "      <td>826.190</td>\n",
       "    </tr>\n",
       "  </tbody>\n",
       "</table>\n",
       "</div>"
      ],
      "text/plain": [
       "               value  value_next_day\n",
       "Datetime                            \n",
       "2022-02-23  4811.995        4354.241\n",
       "2022-02-24  4354.241        4421.232\n",
       "2022-02-25  4421.232         189.805\n",
       "2022-02-26   189.805         200.970\n",
       "2022-02-27   200.970         826.190"
      ]
     },
     "execution_count": 6,
     "metadata": {},
     "output_type": "execute_result"
    }
   ],
   "source": [
    "df = df.dropna(how='any', axis=0)\n",
    "\n",
    "df.tail()"
   ]
  },
  {
   "cell_type": "code",
   "execution_count": 7,
   "metadata": {},
   "outputs": [],
   "source": [
    "y_true = df['value']\n",
    "y_pred = df['value_next_day']"
   ]
  },
  {
   "cell_type": "code",
   "execution_count": 9,
   "metadata": {},
   "outputs": [
    {
     "name": "stdout",
     "output_type": "stream",
     "text": [
      "RMSE:  1503.221384639588\n",
      "MSE:  2259674.53123776\n",
      "MAE:  714.6849563924678\n",
      "MAPE:  3.614451765858643e+18\n",
      "R2:  41.08765767321453\n"
     ]
    }
   ],
   "source": [
    "from sklearn.metrics import *\n",
    "\n",
    "print('RMSE: ', np.sqrt(mean_squared_error(y_true, y_pred)))\n",
    "print('MSE: ', mean_squared_error(y_true, y_pred))\n",
    "print('MAE: ', mean_absolute_error(y_true, y_pred))\n",
    "print('MAPE: ', mean_absolute_percentage_error(y_true, y_pred)*100)\n",
    "print('R2: ', r2_score(y_true, y_pred)*100)"
   ]
  }
 ],
 "metadata": {
  "interpreter": {
   "hash": "639f361ad657fd45530bdd3e74f62afebc8edc35ba6ab7eef1042ba440bc9585"
  },
  "kernelspec": {
   "display_name": "Python 3.9.0 64-bit",
   "language": "python",
   "name": "python3"
  },
  "language_info": {
   "codemirror_mode": {
    "name": "ipython",
    "version": 3
   },
   "file_extension": ".py",
   "mimetype": "text/x-python",
   "name": "python",
   "nbconvert_exporter": "python",
   "pygments_lexer": "ipython3",
   "version": "3.9.0"
  },
  "orig_nbformat": 4
 },
 "nbformat": 4,
 "nbformat_minor": 2
}
