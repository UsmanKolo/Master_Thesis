{
 "cells": [
  {
   "cell_type": "code",
   "execution_count": 1,
   "metadata": {},
   "outputs": [],
   "source": [
    "# Import modules and packages\n",
    "import pandas as pd\n",
    "import numpy as np\n",
    "import matplotlib.pyplot as plt\n",
    "plt.rcParams[\"figure.figsize\"] = (13,10)\n",
    "plt.style.use('bmh')\n",
    "from datetime import timedelta\n",
    "from keras.models import *\n",
    "from keras.layers import *\n",
    "from sklearn.preprocessing import *\n",
    "import seaborn as sns\n",
    "from sklearn.metrics import *\n",
    "from keras.callbacks import *\n",
    "%matplotlib inline"
   ]
  },
  {
   "cell_type": "code",
   "execution_count": 2,
   "metadata": {},
   "outputs": [],
   "source": [
    "def preprocess(file):\n",
    "    data = pd.read_csv(file)\n",
    "    HUElec = pd.melt(data, id_vars=[\"Date\"], var_name='time')\n",
    "    HUElec['time'] = pd.to_timedelta(HUElec['time'].apply(lambda t: f\"{t[:5]}:00\")) - timedelta(minutes=30)\n",
    "    HUElec['Date'] = pd.to_datetime(HUElec['Date'], format=\"%m/%d/%Y\")\n",
    "    HUElec['Datetime'] = HUElec['Date'] + HUElec['time']\n",
    "    HUElec = HUElec.set_index('Datetime')\n",
    "    HUElec = HUElec.drop(['Date', 'time'], axis=1).sort_index()\n",
    "\n",
    "    return HUElec"
   ]
  },
  {
   "cell_type": "code",
   "execution_count": 3,
   "metadata": {},
   "outputs": [],
   "source": [
    "building = 'GTWY'\n",
    "rule = 'D'\n",
    "type = 'Daily'"
   ]
  },
  {
   "cell_type": "code",
   "execution_count": 6,
   "metadata": {},
   "outputs": [
    {
     "name": "stdout",
     "output_type": "stream",
     "text": [
      "5046\n"
     ]
    },
    {
     "data": {
      "text/html": [
       "<div>\n",
       "<style scoped>\n",
       "    .dataframe tbody tr th:only-of-type {\n",
       "        vertical-align: middle;\n",
       "    }\n",
       "\n",
       "    .dataframe tbody tr th {\n",
       "        vertical-align: top;\n",
       "    }\n",
       "\n",
       "    .dataframe thead th {\n",
       "        text-align: right;\n",
       "    }\n",
       "</style>\n",
       "<table border=\"1\" class=\"dataframe\">\n",
       "  <thead>\n",
       "    <tr style=\"text-align: right;\">\n",
       "      <th></th>\n",
       "      <th>Electric</th>\n",
       "    </tr>\n",
       "    <tr>\n",
       "      <th>Datetime</th>\n",
       "      <th></th>\n",
       "    </tr>\n",
       "  </thead>\n",
       "  <tbody>\n",
       "    <tr>\n",
       "      <th>2008-05-07</th>\n",
       "      <td>14.376250</td>\n",
       "    </tr>\n",
       "    <tr>\n",
       "      <th>2008-05-08</th>\n",
       "      <td>26.581708</td>\n",
       "    </tr>\n",
       "    <tr>\n",
       "      <th>2008-05-09</th>\n",
       "      <td>25.487375</td>\n",
       "    </tr>\n",
       "    <tr>\n",
       "      <th>2008-05-10</th>\n",
       "      <td>11.273500</td>\n",
       "    </tr>\n",
       "    <tr>\n",
       "      <th>2008-05-11</th>\n",
       "      <td>11.583042</td>\n",
       "    </tr>\n",
       "  </tbody>\n",
       "</table>\n",
       "</div>"
      ],
      "text/plain": [
       "             Electric\n",
       "Datetime             \n",
       "2008-05-07  14.376250\n",
       "2008-05-08  26.581708\n",
       "2008-05-09  25.487375\n",
       "2008-05-10  11.273500\n",
       "2008-05-11  11.583042"
      ]
     },
     "execution_count": 6,
     "metadata": {},
     "output_type": "execute_result"
    }
   ],
   "source": [
    "file = 'C:\\\\Users\\\\moham\\\\OneDrive - De Montfort University\\\\Final Project\\\\Master_Thesis\\\\Dataset\\\\'+building+'Elec.csv'\n",
    "data = preprocess(file)\n",
    "\n",
    "data = data.resample(rule=rule).mean().copy()\n",
    "\n",
    "data = data.rename(columns={'value': 'Electric'})\n",
    "\n",
    "print(len(data))\n",
    "\n",
    "data.fillna(method='ffill',  inplace=True)\n",
    "\n",
    "data.head()"
   ]
  },
  {
   "cell_type": "code",
   "execution_count": 7,
   "metadata": {},
   "outputs": [
    {
     "data": {
      "text/plain": [
       "Electric    0\n",
       "dtype: int64"
      ]
     },
     "execution_count": 7,
     "metadata": {},
     "output_type": "execute_result"
    }
   ],
   "source": [
    "data.isna().sum()"
   ]
  },
  {
   "cell_type": "code",
   "execution_count": 8,
   "metadata": {},
   "outputs": [
    {
     "data": {
      "text/plain": [
       "[<matplotlib.lines.Line2D at 0x27123cab400>]"
      ]
     },
     "execution_count": 8,
     "metadata": {},
     "output_type": "execute_result"
    },
    {
     "data": {
      "image/png": "[encoded data removed]",
      "text/plain": [
       "<Figure size 432x288 with 1 Axes>"
      ]
     },
     "metadata": {
      "needs_background": "light"
     },
     "output_type": "display_data"
    }
   ],
   "source": [
    "plt.plot(data)"
   ]
  },
  {
   "cell_type": "code",
   "execution_count": 9,
   "metadata": {},
   "outputs": [
    {
     "name": "stdout",
     "output_type": "stream",
     "text": [
      "5046\n"
     ]
    },
    {
     "data": {
      "text/html": [
       "<div>\n",
       "<style scoped>\n",
       "    .dataframe tbody tr th:only-of-type {\n",
       "        vertical-align: middle;\n",
       "    }\n",
       "\n",
       "    .dataframe tbody tr th {\n",
       "        vertical-align: top;\n",
       "    }\n",
       "\n",
       "    .dataframe thead th {\n",
       "        text-align: right;\n",
       "    }\n",
       "</style>\n",
       "<table border=\"1\" class=\"dataframe\">\n",
       "  <thead>\n",
       "    <tr style=\"text-align: right;\">\n",
       "      <th></th>\n",
       "      <th>Gas</th>\n",
       "    </tr>\n",
       "    <tr>\n",
       "      <th>Datetime</th>\n",
       "      <th></th>\n",
       "    </tr>\n",
       "  </thead>\n",
       "  <tbody>\n",
       "    <tr>\n",
       "      <th>2008-05-07</th>\n",
       "      <td>3.434313</td>\n",
       "    </tr>\n",
       "    <tr>\n",
       "      <th>2008-05-08</th>\n",
       "      <td>5.891833</td>\n",
       "    </tr>\n",
       "    <tr>\n",
       "      <th>2008-05-09</th>\n",
       "      <td>5.702625</td>\n",
       "    </tr>\n",
       "    <tr>\n",
       "      <th>2008-05-10</th>\n",
       "      <td>3.796229</td>\n",
       "    </tr>\n",
       "    <tr>\n",
       "      <th>2008-05-11</th>\n",
       "      <td>3.796625</td>\n",
       "    </tr>\n",
       "  </tbody>\n",
       "</table>\n",
       "</div>"
      ],
      "text/plain": [
       "                 Gas\n",
       "Datetime            \n",
       "2008-05-07  3.434313\n",
       "2008-05-08  5.891833\n",
       "2008-05-09  5.702625\n",
       "2008-05-10  3.796229\n",
       "2008-05-11  3.796625"
      ]
     },
     "execution_count": 9,
     "metadata": {},
     "output_type": "execute_result"
    }
   ],
   "source": [
    "file = 'C:\\\\Users\\\\moham\\\\OneDrive - De Montfort University\\\\Final Project\\\\Master_Thesis\\\\Dataset\\\\'+building+'Gas.csv'\n",
    "data1 = preprocess(file)\n",
    "\n",
    "data1 = data1.resample(rule=rule).mean().copy()\n",
    "\n",
    "data1 = data1.rename(columns={'value': 'Gas'})\n",
    "\n",
    "print(len(data1))\n",
    "\n",
    "# data1.fillna(method='ffill',  inplace=True)\n",
    "\n",
    "data1.head()"
   ]
  },
  {
   "cell_type": "code",
   "execution_count": 10,
   "metadata": {},
   "outputs": [
    {
     "data": {
      "text/plain": [
       "Gas    0\n",
       "dtype: int64"
      ]
     },
     "execution_count": 10,
     "metadata": {},
     "output_type": "execute_result"
    }
   ],
   "source": [
    "data1.isna().sum()"
   ]
  },
  {
   "cell_type": "code",
   "execution_count": 13,
   "metadata": {},
   "outputs": [
    {
     "name": "stdout",
     "output_type": "stream",
     "text": [
      "5031\n"
     ]
    },
    {
     "data": {
      "text/html": [
       "<div>\n",
       "<style scoped>\n",
       "    .dataframe tbody tr th:only-of-type {\n",
       "        vertical-align: middle;\n",
       "    }\n",
       "\n",
       "    .dataframe tbody tr th {\n",
       "        vertical-align: top;\n",
       "    }\n",
       "\n",
       "    .dataframe thead th {\n",
       "        text-align: right;\n",
       "    }\n",
       "</style>\n",
       "<table border=\"1\" class=\"dataframe\">\n",
       "  <thead>\n",
       "    <tr style=\"text-align: right;\">\n",
       "      <th></th>\n",
       "      <th>Water</th>\n",
       "    </tr>\n",
       "    <tr>\n",
       "      <th>Datetime</th>\n",
       "      <th></th>\n",
       "    </tr>\n",
       "  </thead>\n",
       "  <tbody>\n",
       "    <tr>\n",
       "      <th>2008-05-23</th>\n",
       "      <td>0.102063</td>\n",
       "    </tr>\n",
       "    <tr>\n",
       "      <th>2008-05-24</th>\n",
       "      <td>0.001313</td>\n",
       "    </tr>\n",
       "    <tr>\n",
       "      <th>2008-05-25</th>\n",
       "      <td>0.001104</td>\n",
       "    </tr>\n",
       "    <tr>\n",
       "      <th>2008-05-26</th>\n",
       "      <td>0.002917</td>\n",
       "    </tr>\n",
       "    <tr>\n",
       "      <th>2008-05-27</th>\n",
       "      <td>0.004125</td>\n",
       "    </tr>\n",
       "  </tbody>\n",
       "</table>\n",
       "</div>"
      ],
      "text/plain": [
       "               Water\n",
       "Datetime            \n",
       "2008-05-23  0.102063\n",
       "2008-05-24  0.001313\n",
       "2008-05-25  0.001104\n",
       "2008-05-26  0.002917\n",
       "2008-05-27  0.004125"
      ]
     },
     "execution_count": 13,
     "metadata": {},
     "output_type": "execute_result"
    }
   ],
   "source": [
    "file = 'C:\\\\Users\\\\moham\\\\OneDrive - De Montfort University\\\\Final Project\\\\Master_Thesis\\\\Dataset\\\\'+building+'Water.csv'\n",
    "data2 = preprocess(file)\n",
    "\n",
    "data2 = data2.resample(rule=rule).mean().copy()\n",
    "\n",
    "data2 = data2.rename(columns={'value': 'Water'})\n",
    "\n",
    "print(len(data2))\n",
    "\n",
    "data2.fillna(method='ffill',  inplace=True)\n",
    "\n",
    "data2.head()"
   ]
  },
  {
   "cell_type": "code",
   "execution_count": 14,
   "metadata": {},
   "outputs": [
    {
     "data": {
      "text/plain": [
       "Water    0\n",
       "dtype: int64"
      ]
     },
     "execution_count": 14,
     "metadata": {},
     "output_type": "execute_result"
    }
   ],
   "source": [
    "data2.isna().sum()"
   ]
  },
  {
   "cell_type": "code",
   "execution_count": 15,
   "metadata": {},
   "outputs": [
    {
     "name": "stdout",
     "output_type": "stream",
     "text": [
      "5030\n"
     ]
    },
    {
     "data": {
      "text/html": [
       "<div>\n",
       "<style scoped>\n",
       "    .dataframe tbody tr th:only-of-type {\n",
       "        vertical-align: middle;\n",
       "    }\n",
       "\n",
       "    .dataframe tbody tr th {\n",
       "        vertical-align: top;\n",
       "    }\n",
       "\n",
       "    .dataframe thead th {\n",
       "        text-align: right;\n",
       "    }\n",
       "</style>\n",
       "<table border=\"1\" class=\"dataframe\">\n",
       "  <thead>\n",
       "    <tr style=\"text-align: right;\">\n",
       "      <th></th>\n",
       "      <th>Electric</th>\n",
       "      <th>Gas</th>\n",
       "      <th>Water</th>\n",
       "    </tr>\n",
       "    <tr>\n",
       "      <th>Datetime</th>\n",
       "      <th></th>\n",
       "      <th></th>\n",
       "      <th></th>\n",
       "    </tr>\n",
       "  </thead>\n",
       "  <tbody>\n",
       "    <tr>\n",
       "      <th>2008-05-23</th>\n",
       "      <td>21.259812</td>\n",
       "      <td>4.716729</td>\n",
       "      <td>0.102063</td>\n",
       "    </tr>\n",
       "    <tr>\n",
       "      <th>2008-05-24</th>\n",
       "      <td>9.742125</td>\n",
       "      <td>4.643917</td>\n",
       "      <td>0.001313</td>\n",
       "    </tr>\n",
       "    <tr>\n",
       "      <th>2008-05-25</th>\n",
       "      <td>9.466250</td>\n",
       "      <td>4.789521</td>\n",
       "      <td>0.001104</td>\n",
       "    </tr>\n",
       "    <tr>\n",
       "      <th>2008-05-26</th>\n",
       "      <td>9.720917</td>\n",
       "      <td>4.913646</td>\n",
       "      <td>0.002917</td>\n",
       "    </tr>\n",
       "    <tr>\n",
       "      <th>2008-05-27</th>\n",
       "      <td>9.453167</td>\n",
       "      <td>4.650792</td>\n",
       "      <td>0.004125</td>\n",
       "    </tr>\n",
       "  </tbody>\n",
       "</table>\n",
       "</div>"
      ],
      "text/plain": [
       "             Electric       Gas     Water\n",
       "Datetime                                 \n",
       "2008-05-23  21.259812  4.716729  0.102063\n",
       "2008-05-24   9.742125  4.643917  0.001313\n",
       "2008-05-25   9.466250  4.789521  0.001104\n",
       "2008-05-26   9.720917  4.913646  0.002917\n",
       "2008-05-27   9.453167  4.650792  0.004125"
      ]
     },
     "execution_count": 15,
     "metadata": {},
     "output_type": "execute_result"
    }
   ],
   "source": [
    "data = data.loc['2008-05-23':]\n",
    "data1 = data1.loc['2008-05-23':]\n",
    "\n",
    "new_data = data.join([data1,data2])\n",
    "\n",
    "print(len(new_data))\n",
    "\n",
    "new_data.head()"
   ]
  },
  {
   "cell_type": "code",
   "execution_count": 17,
   "metadata": {},
   "outputs": [
    {
     "data": {
      "text/html": [
       "<div>\n",
       "<style scoped>\n",
       "    .dataframe tbody tr th:only-of-type {\n",
       "        vertical-align: middle;\n",
       "    }\n",
       "\n",
       "    .dataframe tbody tr th {\n",
       "        vertical-align: top;\n",
       "    }\n",
       "\n",
       "    .dataframe thead th {\n",
       "        text-align: right;\n",
       "    }\n",
       "</style>\n",
       "<table border=\"1\" class=\"dataframe\">\n",
       "  <thead>\n",
       "    <tr style=\"text-align: right;\">\n",
       "      <th></th>\n",
       "      <th>Electric</th>\n",
       "      <th>Gas</th>\n",
       "      <th>Water</th>\n",
       "    </tr>\n",
       "    <tr>\n",
       "      <th>Datetime</th>\n",
       "      <th></th>\n",
       "      <th></th>\n",
       "      <th></th>\n",
       "    </tr>\n",
       "  </thead>\n",
       "  <tbody>\n",
       "    <tr>\n",
       "      <th>2022-02-24</th>\n",
       "      <td>57.230000</td>\n",
       "      <td>90.713354</td>\n",
       "      <td>0.000000</td>\n",
       "    </tr>\n",
       "    <tr>\n",
       "      <th>2022-02-25</th>\n",
       "      <td>51.441667</td>\n",
       "      <td>92.109000</td>\n",
       "      <td>0.000000</td>\n",
       "    </tr>\n",
       "    <tr>\n",
       "      <th>2022-02-26</th>\n",
       "      <td>29.384167</td>\n",
       "      <td>3.954271</td>\n",
       "      <td>-0.000417</td>\n",
       "    </tr>\n",
       "    <tr>\n",
       "      <th>2022-02-27</th>\n",
       "      <td>29.038333</td>\n",
       "      <td>4.186875</td>\n",
       "      <td>0.000000</td>\n",
       "    </tr>\n",
       "    <tr>\n",
       "      <th>2022-02-28</th>\n",
       "      <td>10.345000</td>\n",
       "      <td>17.212292</td>\n",
       "      <td>0.000000</td>\n",
       "    </tr>\n",
       "  </tbody>\n",
       "</table>\n",
       "</div>"
      ],
      "text/plain": [
       "             Electric        Gas     Water\n",
       "Datetime                                  \n",
       "2022-02-24  57.230000  90.713354  0.000000\n",
       "2022-02-25  51.441667  92.109000  0.000000\n",
       "2022-02-26  29.384167   3.954271 -0.000417\n",
       "2022-02-27  29.038333   4.186875  0.000000\n",
       "2022-02-28  10.345000  17.212292  0.000000"
      ]
     },
     "execution_count": 17,
     "metadata": {},
     "output_type": "execute_result"
    }
   ],
   "source": [
    "new_data.tail()"
   ]
  },
  {
   "cell_type": "code",
   "execution_count": 18,
   "metadata": {},
   "outputs": [
    {
     "data": {
      "text/plain": [
       "array([<AxesSubplot:xlabel='Datetime'>, <AxesSubplot:xlabel='Datetime'>,\n",
       "       <AxesSubplot:xlabel='Datetime'>], dtype=object)"
      ]
     },
     "execution_count": 18,
     "metadata": {},
     "output_type": "execute_result"
    },
    {
     "data": {
      "image/png": "[encoded data removed]",
      "text/plain": [
       "<Figure size 432x288 with 3 Axes>"
      ]
     },
     "metadata": {
      "needs_background": "light"
     },
     "output_type": "display_data"
    }
   ],
   "source": [
    "new_data.plot(subplots=True)"
   ]
  },
  {
   "cell_type": "code",
   "execution_count": 18,
   "metadata": {},
   "outputs": [],
   "source": [
    "new_data.to_csv('C:\\\\Users\\\\moham\\\\OneDrive - De Montfort University\\\\Final Project\\\\Master_Thesis\\\\Dataset\\\\All_'+building+'_'+type+'_Dataset.csv')"
   ]
  }
 ],
 "metadata": {
  "interpreter": {
   "hash": "639f361ad657fd45530bdd3e74f62afebc8edc35ba6ab7eef1042ba440bc9585"
  },
  "kernelspec": {
   "display_name": "Python 3.9.0 64-bit",
   "language": "python",
   "name": "python3"
  },
  "language_info": {
   "codemirror_mode": {
    "name": "ipython",
    "version": 3
   },
   "file_extension": ".py",
   "mimetype": "text/x-python",
   "name": "python",
   "nbconvert_exporter": "python",
   "pygments_lexer": "ipython3",
   "version": "3.9.0"
  },
  "orig_nbformat": 4
 },
 "nbformat": 4,
 "nbformat_minor": 2
}
