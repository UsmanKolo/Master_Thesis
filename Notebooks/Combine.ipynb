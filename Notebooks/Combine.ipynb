{
 "cells": [
  {
   "cell_type": "code",
   "execution_count": 1,
   "metadata": {},
   "outputs": [],
   "source": [
    "# Import modules and packages\n",
    "import pandas as pd\n",
    "import numpy as np\n",
    "import matplotlib.pyplot as plt\n",
    "plt.rcParams[\"figure.figsize\"] = (13,10)\n",
    "plt.style.use('bmh')\n",
    "from datetime import timedelta\n",
    "from keras.models import *\n",
    "from keras.layers import *\n",
    "from sklearn.preprocessing import *\n",
    "import seaborn as sns\n",
    "from sklearn.metrics import *\n",
    "from keras.callbacks import *\n",
    "%matplotlib inline"
   ]
  },
  {
   "cell_type": "code",
   "execution_count": 2,
   "metadata": {},
   "outputs": [],
   "source": [
    "def preprocess(file):\n",
    "    data = pd.read_csv(file)\n",
    "    HUElec = pd.melt(data, id_vars=[\"Date\"], var_name='time')\n",
    "    HUElec['time'] = pd.to_timedelta(HUElec['time'].apply(lambda t: f\"{t[:5]}:00\")) - timedelta(minutes=30)\n",
    "    HUElec['Date'] = pd.to_datetime(HUElec['Date'], format=\"%m/%d/%Y\")\n",
    "    HUElec['Datetime'] = HUElec['Date'] + HUElec['time']\n",
    "    HUElec = HUElec.set_index('Datetime')\n",
    "    HUElec = HUElec.drop(['Date', 'time'], axis=1).sort_index()\n",
    "\n",
    "    return HUElec"
   ]
  },
  {
   "cell_type": "code",
   "execution_count": 3,
   "metadata": {},
   "outputs": [],
   "source": [
    "building = 'HU'"
   ]
  },
  {
   "cell_type": "code",
   "execution_count": 4,
   "metadata": {},
   "outputs": [
    {
     "data": {
      "text/html": [
       "<div>\n",
       "<style scoped>\n",
       "    .dataframe tbody tr th:only-of-type {\n",
       "        vertical-align: middle;\n",
       "    }\n",
       "\n",
       "    .dataframe tbody tr th {\n",
       "        vertical-align: top;\n",
       "    }\n",
       "\n",
       "    .dataframe thead th {\n",
       "        text-align: right;\n",
       "    }\n",
       "</style>\n",
       "<table border=\"1\" class=\"dataframe\">\n",
       "  <thead>\n",
       "    <tr style=\"text-align: right;\">\n",
       "      <th></th>\n",
       "      <th>Electric</th>\n",
       "    </tr>\n",
       "    <tr>\n",
       "      <th>Datetime</th>\n",
       "      <th></th>\n",
       "    </tr>\n",
       "  </thead>\n",
       "  <tbody>\n",
       "    <tr>\n",
       "      <th>2010-01-25</th>\n",
       "      <td>75.447000</td>\n",
       "    </tr>\n",
       "    <tr>\n",
       "      <th>2010-01-26</th>\n",
       "      <td>92.642500</td>\n",
       "    </tr>\n",
       "    <tr>\n",
       "      <th>2010-01-27</th>\n",
       "      <td>85.914958</td>\n",
       "    </tr>\n",
       "    <tr>\n",
       "      <th>2010-01-28</th>\n",
       "      <td>96.138875</td>\n",
       "    </tr>\n",
       "    <tr>\n",
       "      <th>2010-01-29</th>\n",
       "      <td>92.043229</td>\n",
       "    </tr>\n",
       "  </tbody>\n",
       "</table>\n",
       "</div>"
      ],
      "text/plain": [
       "             Electric\n",
       "Datetime             \n",
       "2010-01-25  75.447000\n",
       "2010-01-26  92.642500\n",
       "2010-01-27  85.914958\n",
       "2010-01-28  96.138875\n",
       "2010-01-29  92.043229"
      ]
     },
     "execution_count": 4,
     "metadata": {},
     "output_type": "execute_result"
    }
   ],
   "source": [
    "file = 'C:\\\\Users\\\\moham\\\\OneDrive - De Montfort University\\\\Final Project\\\\Master_Thesis\\\\Dataset\\\\'+building+'Elec.csv'\n",
    "data = preprocess(file)\n",
    "\n",
    "data = data.resample(rule='d').mean().copy()\n",
    "\n",
    "data = data.rename(columns={'value': 'Electric'})\n",
    "\n",
    "data.head()"
   ]
  },
  {
   "cell_type": "code",
   "execution_count": 5,
   "metadata": {},
   "outputs": [
    {
     "data": {
      "text/plain": [
       "[<matplotlib.lines.Line2D at 0x20587228d30>]"
      ]
     },
     "execution_count": 5,
     "metadata": {},
     "output_type": "execute_result"
    },
    {
     "data": {
      "image/png": "[encoded data removed]",
      "text/plain": [
       "<Figure size 432x288 with 1 Axes>"
      ]
     },
     "metadata": {
      "needs_background": "light"
     },
     "output_type": "display_data"
    }
   ],
   "source": [
    "plt.plot(data)"
   ]
  },
  {
   "cell_type": "code",
   "execution_count": 6,
   "metadata": {},
   "outputs": [
    {
     "data": {
      "text/html": [
       "<div>\n",
       "<style scoped>\n",
       "    .dataframe tbody tr th:only-of-type {\n",
       "        vertical-align: middle;\n",
       "    }\n",
       "\n",
       "    .dataframe tbody tr th {\n",
       "        vertical-align: top;\n",
       "    }\n",
       "\n",
       "    .dataframe thead th {\n",
       "        text-align: right;\n",
       "    }\n",
       "</style>\n",
       "<table border=\"1\" class=\"dataframe\">\n",
       "  <thead>\n",
       "    <tr style=\"text-align: right;\">\n",
       "      <th></th>\n",
       "      <th>Gas</th>\n",
       "    </tr>\n",
       "    <tr>\n",
       "      <th>Datetime</th>\n",
       "      <th></th>\n",
       "    </tr>\n",
       "  </thead>\n",
       "  <tbody>\n",
       "    <tr>\n",
       "      <th>2010-01-25</th>\n",
       "      <td>49.536583</td>\n",
       "    </tr>\n",
       "    <tr>\n",
       "      <th>2010-01-26</th>\n",
       "      <td>143.147521</td>\n",
       "    </tr>\n",
       "    <tr>\n",
       "      <th>2010-01-27</th>\n",
       "      <td>138.752938</td>\n",
       "    </tr>\n",
       "    <tr>\n",
       "      <th>2010-01-28</th>\n",
       "      <td>152.652333</td>\n",
       "    </tr>\n",
       "    <tr>\n",
       "      <th>2010-01-29</th>\n",
       "      <td>157.730500</td>\n",
       "    </tr>\n",
       "  </tbody>\n",
       "</table>\n",
       "</div>"
      ],
      "text/plain": [
       "                   Gas\n",
       "Datetime              \n",
       "2010-01-25   49.536583\n",
       "2010-01-26  143.147521\n",
       "2010-01-27  138.752938\n",
       "2010-01-28  152.652333\n",
       "2010-01-29  157.730500"
      ]
     },
     "execution_count": 6,
     "metadata": {},
     "output_type": "execute_result"
    }
   ],
   "source": [
    "file = 'C:\\\\Users\\\\moham\\\\OneDrive - De Montfort University\\\\Final Project\\\\Master_Thesis\\\\Dataset\\\\'+building+'Gas.csv'\n",
    "data1 = preprocess(file)\n",
    "\n",
    "data1 = data1.resample(rule='d').mean().copy()\n",
    "\n",
    "data1 = data1.rename(columns={'value': 'Gas'})\n",
    "\n",
    "data1.head()"
   ]
  },
  {
   "cell_type": "code",
   "execution_count": 7,
   "metadata": {},
   "outputs": [
    {
     "data": {
      "text/html": [
       "<div>\n",
       "<style scoped>\n",
       "    .dataframe tbody tr th:only-of-type {\n",
       "        vertical-align: middle;\n",
       "    }\n",
       "\n",
       "    .dataframe tbody tr th {\n",
       "        vertical-align: top;\n",
       "    }\n",
       "\n",
       "    .dataframe thead th {\n",
       "        text-align: right;\n",
       "    }\n",
       "</style>\n",
       "<table border=\"1\" class=\"dataframe\">\n",
       "  <thead>\n",
       "    <tr style=\"text-align: right;\">\n",
       "      <th></th>\n",
       "      <th>Water</th>\n",
       "    </tr>\n",
       "    <tr>\n",
       "      <th>Datetime</th>\n",
       "      <th></th>\n",
       "    </tr>\n",
       "  </thead>\n",
       "  <tbody>\n",
       "    <tr>\n",
       "      <th>2010-02-02</th>\n",
       "      <td>0.102313</td>\n",
       "    </tr>\n",
       "    <tr>\n",
       "      <th>2010-02-03</th>\n",
       "      <td>0.375250</td>\n",
       "    </tr>\n",
       "    <tr>\n",
       "      <th>2010-02-04</th>\n",
       "      <td>0.428313</td>\n",
       "    </tr>\n",
       "    <tr>\n",
       "      <th>2010-02-05</th>\n",
       "      <td>0.377042</td>\n",
       "    </tr>\n",
       "    <tr>\n",
       "      <th>2010-02-06</th>\n",
       "      <td>0.089542</td>\n",
       "    </tr>\n",
       "  </tbody>\n",
       "</table>\n",
       "</div>"
      ],
      "text/plain": [
       "               Water\n",
       "Datetime            \n",
       "2010-02-02  0.102313\n",
       "2010-02-03  0.375250\n",
       "2010-02-04  0.428313\n",
       "2010-02-05  0.377042\n",
       "2010-02-06  0.089542"
      ]
     },
     "execution_count": 7,
     "metadata": {},
     "output_type": "execute_result"
    }
   ],
   "source": [
    "file = 'C:\\\\Users\\\\moham\\\\OneDrive - De Montfort University\\\\Final Project\\\\Master_Thesis\\\\Dataset\\\\'+building+'Water.csv'\n",
    "data2 = preprocess(file)\n",
    "\n",
    "data2 = data2.resample(rule='d').mean().copy()\n",
    "\n",
    "data2 = data2.rename(columns={'value': 'Water'})\n",
    "\n",
    "data2.head()"
   ]
  },
  {
   "cell_type": "code",
   "execution_count": 8,
   "metadata": {},
   "outputs": [
    {
     "data": {
      "text/html": [
       "<div>\n",
       "<style scoped>\n",
       "    .dataframe tbody tr th:only-of-type {\n",
       "        vertical-align: middle;\n",
       "    }\n",
       "\n",
       "    .dataframe tbody tr th {\n",
       "        vertical-align: top;\n",
       "    }\n",
       "\n",
       "    .dataframe thead th {\n",
       "        text-align: right;\n",
       "    }\n",
       "</style>\n",
       "<table border=\"1\" class=\"dataframe\">\n",
       "  <thead>\n",
       "    <tr style=\"text-align: right;\">\n",
       "      <th></th>\n",
       "      <th>Electric</th>\n",
       "      <th>Gas</th>\n",
       "      <th>Water</th>\n",
       "    </tr>\n",
       "    <tr>\n",
       "      <th>Datetime</th>\n",
       "      <th></th>\n",
       "      <th></th>\n",
       "      <th></th>\n",
       "    </tr>\n",
       "  </thead>\n",
       "  <tbody>\n",
       "    <tr>\n",
       "      <th>2010-02-02</th>\n",
       "      <td>101.613979</td>\n",
       "      <td>139.386646</td>\n",
       "      <td>0.102313</td>\n",
       "    </tr>\n",
       "    <tr>\n",
       "      <th>2010-02-03</th>\n",
       "      <td>98.845000</td>\n",
       "      <td>182.338125</td>\n",
       "      <td>0.375250</td>\n",
       "    </tr>\n",
       "    <tr>\n",
       "      <th>2010-02-04</th>\n",
       "      <td>97.897604</td>\n",
       "      <td>152.264583</td>\n",
       "      <td>0.428313</td>\n",
       "    </tr>\n",
       "    <tr>\n",
       "      <th>2010-02-05</th>\n",
       "      <td>87.718333</td>\n",
       "      <td>134.719208</td>\n",
       "      <td>0.377042</td>\n",
       "    </tr>\n",
       "    <tr>\n",
       "      <th>2010-02-06</th>\n",
       "      <td>55.565125</td>\n",
       "      <td>135.339687</td>\n",
       "      <td>0.089542</td>\n",
       "    </tr>\n",
       "  </tbody>\n",
       "</table>\n",
       "</div>"
      ],
      "text/plain": [
       "              Electric         Gas     Water\n",
       "Datetime                                    \n",
       "2010-02-02  101.613979  139.386646  0.102313\n",
       "2010-02-03   98.845000  182.338125  0.375250\n",
       "2010-02-04   97.897604  152.264583  0.428313\n",
       "2010-02-05   87.718333  134.719208  0.377042\n",
       "2010-02-06   55.565125  135.339687  0.089542"
      ]
     },
     "execution_count": 8,
     "metadata": {},
     "output_type": "execute_result"
    }
   ],
   "source": [
    "data1 = data1.loc['2010-02-02':]\n",
    "data = data.loc['2010-02-02':]\n",
    "\n",
    "new_data = data.join([data1,data2])\n",
    "\n",
    "new_data.head()"
   ]
  },
  {
   "cell_type": "code",
   "execution_count": 9,
   "metadata": {},
   "outputs": [
    {
     "data": {
      "text/plain": [
       "array([<AxesSubplot:xlabel='Datetime'>, <AxesSubplot:xlabel='Datetime'>,\n",
       "       <AxesSubplot:xlabel='Datetime'>], dtype=object)"
      ]
     },
     "execution_count": 9,
     "metadata": {},
     "output_type": "execute_result"
    },
    {
     "data": {
      "image/png": "[encoded data removed]",
      "text/plain": [
       "<Figure size 432x288 with 3 Axes>"
      ]
     },
     "metadata": {
      "needs_background": "light"
     },
     "output_type": "display_data"
    }
   ],
   "source": [
    "new_data.plot(subplots=True)"
   ]
  },
  {
   "cell_type": "code",
   "execution_count": 10,
   "metadata": {},
   "outputs": [],
   "source": [
    "new_data.to_csv('C:\\\\Users\\\\moham\\\\OneDrive - De Montfort University\\\\Final Project\\\\Master_Thesis\\\\Dataset\\\\All_HU_Daily_Dataset.csv')"
   ]
  }
 ],
 "metadata": {
  "interpreter": {
   "hash": "639f361ad657fd45530bdd3e74f62afebc8edc35ba6ab7eef1042ba440bc9585"
  },
  "kernelspec": {
   "display_name": "Python 3.9.0 64-bit",
   "language": "python",
   "name": "python3"
  },
  "language_info": {
   "codemirror_mode": {
    "name": "ipython",
    "version": 3
   },
   "file_extension": ".py",
   "mimetype": "text/x-python",
   "name": "python",
   "nbconvert_exporter": "python",
   "pygments_lexer": "ipython3",
   "version": "3.9.0"
  },
  "orig_nbformat": 4
 },
 "nbformat": 4,
 "nbformat_minor": 2
}
