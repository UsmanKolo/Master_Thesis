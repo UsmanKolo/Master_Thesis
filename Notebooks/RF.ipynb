{
 "cells": [
  {
   "cell_type": "code",
   "execution_count": 1,
   "metadata": {},
   "outputs": [],
   "source": [
    "import pandas as pd\n",
    "import numpy as np\n",
    "import matplotlib.pyplot as plt\n",
    "plt.rcParams[\"figure.figsize\"] = (20,9)\n",
    "plt.style.use('bmh')\n",
    "from datetime import timedelta\n",
    "from keras.models import *\n",
    "from keras.layers import *\n",
    "from sklearn.preprocessing import *\n",
    "import seaborn as sns\n",
    "from sklearn.metrics import *"
   ]
  },
  {
   "cell_type": "code",
   "execution_count": 16,
   "metadata": {},
   "outputs": [
    {
     "data": {
      "text/html": [
       "<div>\n",
       "<style scoped>\n",
       "    .dataframe tbody tr th:only-of-type {\n",
       "        vertical-align: middle;\n",
       "    }\n",
       "\n",
       "    .dataframe tbody tr th {\n",
       "        vertical-align: top;\n",
       "    }\n",
       "\n",
       "    .dataframe thead th {\n",
       "        text-align: right;\n",
       "    }\n",
       "</style>\n",
       "<table border=\"1\" class=\"dataframe\">\n",
       "  <thead>\n",
       "    <tr style=\"text-align: right;\">\n",
       "      <th></th>\n",
       "      <th>Electric</th>\n",
       "      <th>Gas</th>\n",
       "      <th>Water</th>\n",
       "      <th>temp</th>\n",
       "      <th>dew_point</th>\n",
       "      <th>pressure</th>\n",
       "      <th>humidity</th>\n",
       "      <th>wind_speed</th>\n",
       "    </tr>\n",
       "    <tr>\n",
       "      <th>Datetime</th>\n",
       "      <th></th>\n",
       "      <th></th>\n",
       "      <th></th>\n",
       "      <th></th>\n",
       "      <th></th>\n",
       "      <th></th>\n",
       "      <th></th>\n",
       "      <th></th>\n",
       "    </tr>\n",
       "  </thead>\n",
       "  <tbody>\n",
       "    <tr>\n",
       "      <th>2010-02-02</th>\n",
       "      <td>101.613979</td>\n",
       "      <td>139.386646</td>\n",
       "      <td>0.102313</td>\n",
       "      <td>4.377917</td>\n",
       "      <td>3.256250</td>\n",
       "      <td>1005.291667</td>\n",
       "      <td>92.458333</td>\n",
       "      <td>5.823750</td>\n",
       "    </tr>\n",
       "    <tr>\n",
       "      <th>2010-02-03</th>\n",
       "      <td>98.845000</td>\n",
       "      <td>182.338125</td>\n",
       "      <td>0.375250</td>\n",
       "      <td>1.380000</td>\n",
       "      <td>0.423750</td>\n",
       "      <td>1007.625000</td>\n",
       "      <td>93.333333</td>\n",
       "      <td>2.943750</td>\n",
       "    </tr>\n",
       "    <tr>\n",
       "      <th>2010-02-04</th>\n",
       "      <td>97.897604</td>\n",
       "      <td>152.264583</td>\n",
       "      <td>0.428312</td>\n",
       "      <td>5.105833</td>\n",
       "      <td>4.458333</td>\n",
       "      <td>1004.333333</td>\n",
       "      <td>95.666667</td>\n",
       "      <td>4.350000</td>\n",
       "    </tr>\n",
       "    <tr>\n",
       "      <th>2010-02-05</th>\n",
       "      <td>87.718333</td>\n",
       "      <td>134.719208</td>\n",
       "      <td>0.377042</td>\n",
       "      <td>6.210417</td>\n",
       "      <td>5.026250</td>\n",
       "      <td>999.625000</td>\n",
       "      <td>92.333333</td>\n",
       "      <td>3.540417</td>\n",
       "    </tr>\n",
       "    <tr>\n",
       "      <th>2010-02-06</th>\n",
       "      <td>55.565125</td>\n",
       "      <td>135.339687</td>\n",
       "      <td>0.089542</td>\n",
       "      <td>3.039167</td>\n",
       "      <td>2.714167</td>\n",
       "      <td>1015.208333</td>\n",
       "      <td>97.750000</td>\n",
       "      <td>3.332917</td>\n",
       "    </tr>\n",
       "  </tbody>\n",
       "</table>\n",
       "</div>"
      ],
      "text/plain": [
       "              Electric         Gas     Water      temp  dew_point  \\\n",
       "Datetime                                                            \n",
       "2010-02-02  101.613979  139.386646  0.102313  4.377917   3.256250   \n",
       "2010-02-03   98.845000  182.338125  0.375250  1.380000   0.423750   \n",
       "2010-02-04   97.897604  152.264583  0.428312  5.105833   4.458333   \n",
       "2010-02-05   87.718333  134.719208  0.377042  6.210417   5.026250   \n",
       "2010-02-06   55.565125  135.339687  0.089542  3.039167   2.714167   \n",
       "\n",
       "               pressure   humidity  wind_speed  \n",
       "Datetime                                        \n",
       "2010-02-02  1005.291667  92.458333    5.823750  \n",
       "2010-02-03  1007.625000  93.333333    2.943750  \n",
       "2010-02-04  1004.333333  95.666667    4.350000  \n",
       "2010-02-05   999.625000  92.333333    3.540417  \n",
       "2010-02-06  1015.208333  97.750000    3.332917  "
      ]
     },
     "execution_count": 16,
     "metadata": {},
     "output_type": "execute_result"
    }
   ],
   "source": [
    "# Importing Training Set\n",
    "df = pd.read_csv('C:\\\\Users\\\\moham\\\\OneDrive - De Montfort University\\\\Final Project\\\\Master_Thesis\\\\Dataset\\\\HUDaily.csv', index_col=0, parse_dates=True)\n",
    "\n",
    "df.head()"
   ]
  },
  {
   "cell_type": "code",
   "execution_count": 17,
   "metadata": {},
   "outputs": [],
   "source": [
    "from sklearn.metrics import *\n",
    "\n",
    "sc = MinMaxScaler()\n",
    "df = sc.fit_transform(df)"
   ]
  },
  {
   "cell_type": "code",
   "execution_count": 18,
   "metadata": {},
   "outputs": [],
   "source": [
    "# Labels are the values we want to predict\n",
    "labels = np.array(df[:, 0])\n",
    "\n",
    "# Remove the labels from the features\n",
    "# axis 1 refers to the columns\n",
    "features= df[:, 1:]\n",
    "\n",
    "# Saving feature names for later use\n",
    "# feature_list = list(features.columns)\n",
    "\n",
    "# Convert to numpy array\n",
    "features = np.array(features)"
   ]
  },
  {
   "cell_type": "code",
   "execution_count": 19,
   "metadata": {},
   "outputs": [],
   "source": [
    "# Using Skicit-learn to split data into training and testing sets\n",
    "from sklearn.model_selection import train_test_split\n",
    "\n",
    "# Split the data into training and testing sets\n",
    "train_features, test_features, train_labels, test_labels = train_test_split(features, labels, test_size = 0.25, random_state = 42)"
   ]
  },
  {
   "cell_type": "code",
   "execution_count": 20,
   "metadata": {},
   "outputs": [
    {
     "name": "stdout",
     "output_type": "stream",
     "text": [
      "Training Features Shape: (3308, 7)\n",
      "Training Labels Shape: (3308,)\n",
      "Testing Features Shape: (1103, 7)\n",
      "Testing Labels Shape: (1103,)\n"
     ]
    }
   ],
   "source": [
    "print('Training Features Shape:', train_features.shape)\n",
    "print('Training Labels Shape:', train_labels.shape)\n",
    "print('Testing Features Shape:', test_features.shape)\n",
    "print('Testing Labels Shape:', test_labels.shape)"
   ]
  },
  {
   "cell_type": "code",
   "execution_count": 7,
   "metadata": {},
   "outputs": [
    {
     "ename": "ValueError",
     "evalue": "'average' is not in list",
     "output_type": "error",
     "traceback": [
      "\u001b[1;31m---------------------------------------------------------------------------\u001b[0m",
      "\u001b[1;31mValueError\u001b[0m                                Traceback (most recent call last)",
      "\u001b[1;32m<ipython-input-7-58e1ce631687>\u001b[0m in \u001b[0;36m<module>\u001b[1;34m\u001b[0m\n\u001b[0;32m      1\u001b[0m \u001b[1;31m# The baseline predictions are the historical averages\u001b[0m\u001b[1;33m\u001b[0m\u001b[1;33m\u001b[0m\u001b[1;33m\u001b[0m\u001b[0m\n\u001b[1;32m----> 2\u001b[1;33m \u001b[0mbaseline_preds\u001b[0m \u001b[1;33m=\u001b[0m \u001b[0mtest_features\u001b[0m\u001b[1;33m[\u001b[0m\u001b[1;33m:\u001b[0m\u001b[1;33m,\u001b[0m \u001b[0mfeature_list\u001b[0m\u001b[1;33m.\u001b[0m\u001b[0mindex\u001b[0m\u001b[1;33m(\u001b[0m\u001b[1;34m'average'\u001b[0m\u001b[1;33m)\u001b[0m\u001b[1;33m]\u001b[0m\u001b[1;33m\u001b[0m\u001b[1;33m\u001b[0m\u001b[0m\n\u001b[0m\u001b[0;32m      3\u001b[0m \u001b[1;33m\u001b[0m\u001b[0m\n\u001b[0;32m      4\u001b[0m \u001b[1;31m# Baseline errors, and display average baseline error\u001b[0m\u001b[1;33m\u001b[0m\u001b[1;33m\u001b[0m\u001b[1;33m\u001b[0m\u001b[0m\n\u001b[0;32m      5\u001b[0m \u001b[0mbaseline_errors\u001b[0m \u001b[1;33m=\u001b[0m \u001b[0mabs\u001b[0m\u001b[1;33m(\u001b[0m\u001b[0mbaseline_preds\u001b[0m \u001b[1;33m-\u001b[0m \u001b[0mtest_labels\u001b[0m\u001b[1;33m)\u001b[0m\u001b[1;33m\u001b[0m\u001b[1;33m\u001b[0m\u001b[0m\n",
      "\u001b[1;31mValueError\u001b[0m: 'average' is not in list"
     ]
    }
   ],
   "source": [
    "# The baseline predictions are the historical averages\n",
    "baseline_preds = test_features[:, feature_list.index('average')]\n",
    "\n",
    "# Baseline errors, and display average baseline error\n",
    "baseline_errors = abs(baseline_preds - test_labels)\n",
    "\n",
    "print('Average baseline error: ', round(np.mean(baseline_errors), 2))"
   ]
  },
  {
   "cell_type": "code",
   "execution_count": 24,
   "metadata": {},
   "outputs": [],
   "source": [
    "# Import the model we are using\n",
    "from sklearn.ensemble import RandomForestRegressor\n",
    "\n",
    "# Instantiate model with 1000 decision trees\n",
    "rf = RandomForestRegressor(n_estimators = 1000, random_state = 123)\n",
    "\n",
    "# Train the model on training data\n",
    "rf.fit(train_features, train_labels);"
   ]
  },
  {
   "cell_type": "code",
   "execution_count": 25,
   "metadata": {},
   "outputs": [
    {
     "name": "stdout",
     "output_type": "stream",
     "text": [
      "Root Mean Squared Error: 0.097\n",
      "Mean Absolute Error: 0.072\n",
      "Mean Squared Error: 0.009\n",
      "R Squared Score: 0.69\n"
     ]
    }
   ],
   "source": [
    "# Use the forest's predict method on the test data\n",
    "predictions = rf.predict(test_features)\n",
    "\n",
    "# Calculate the absolute errors\n",
    "# errors = abs(predictions - test_labels)\n",
    "mae = mean_absolute_error(test_labels, predictions)\n",
    "mse = mean_squared_error(test_labels, predictions)\n",
    "rmse = np.sqrt(mean_squared_error(test_labels, predictions))\n",
    "r2 = r2_score(test_labels, predictions)\n",
    "\n",
    "# Print out the mean absolute error (mae)\n",
    "print('Root Mean Squared Error:', round(rmse, 3))\n",
    "print('Mean Absolute Error:', round(mae, 3))\n",
    "print('Mean Squared Error:', round(mse, 3))\n",
    "print('R Squared Score:', round(r2, 2))"
   ]
  },
  {
   "cell_type": "code",
   "execution_count": 23,
   "metadata": {},
   "outputs": [
    {
     "name": "stdout",
     "output_type": "stream",
     "text": [
      "Accuracy: 1033153876028.71 %.\n"
     ]
    }
   ],
   "source": [
    "# Calculate mean absolute percentage error (MAPE)\n",
    "mape = mean_absolute_percentage_error(test_labels, predictions)\n",
    "# Calculate and display accuracy\n",
    "accuracy = mape\n",
    "print('Accuracy:', round(accuracy, 2), '%.')"
   ]
  }
 ],
 "metadata": {
  "interpreter": {
   "hash": "639f361ad657fd45530bdd3e74f62afebc8edc35ba6ab7eef1042ba440bc9585"
  },
  "kernelspec": {
   "display_name": "Python 3.9.0 64-bit",
   "language": "python",
   "name": "python3"
  },
  "language_info": {
   "codemirror_mode": {
    "name": "ipython",
    "version": 3
   },
   "file_extension": ".py",
   "mimetype": "text/x-python",
   "name": "python",
   "nbconvert_exporter": "python",
   "pygments_lexer": "ipython3",
   "version": "3.9.0"
  },
  "orig_nbformat": 4
 },
 "nbformat": 4,
 "nbformat_minor": 2
}
