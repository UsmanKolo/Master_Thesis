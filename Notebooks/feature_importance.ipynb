{
 "cells": [
  {
   "cell_type": "code",
   "execution_count": 1,
   "metadata": {},
   "outputs": [
    {
     "data": {
      "text/html": [
       "<div>\n",
       "<style scoped>\n",
       "    .dataframe tbody tr th:only-of-type {\n",
       "        vertical-align: middle;\n",
       "    }\n",
       "\n",
       "    .dataframe tbody tr th {\n",
       "        vertical-align: top;\n",
       "    }\n",
       "\n",
       "    .dataframe thead th {\n",
       "        text-align: right;\n",
       "    }\n",
       "</style>\n",
       "<table border=\"1\" class=\"dataframe\">\n",
       "  <thead>\n",
       "    <tr style=\"text-align: right;\">\n",
       "      <th></th>\n",
       "      <th>value</th>\n",
       "      <th>temp</th>\n",
       "      <th>dew_point</th>\n",
       "      <th>pressure</th>\n",
       "      <th>humidity</th>\n",
       "      <th>wind_speed</th>\n",
       "    </tr>\n",
       "    <tr>\n",
       "      <th>Datetime</th>\n",
       "      <th></th>\n",
       "      <th></th>\n",
       "      <th></th>\n",
       "      <th></th>\n",
       "      <th></th>\n",
       "      <th></th>\n",
       "    </tr>\n",
       "  </thead>\n",
       "  <tbody>\n",
       "    <tr>\n",
       "      <th>2022-02-25</th>\n",
       "      <td>2090.00</td>\n",
       "      <td>6.274167</td>\n",
       "      <td>2.117083</td>\n",
       "      <td>1024.291667</td>\n",
       "      <td>75.083333</td>\n",
       "      <td>5.198333</td>\n",
       "    </tr>\n",
       "    <tr>\n",
       "      <th>2022-02-26</th>\n",
       "      <td>1464.25</td>\n",
       "      <td>5.840417</td>\n",
       "      <td>1.968750</td>\n",
       "      <td>1028.250000</td>\n",
       "      <td>76.916667</td>\n",
       "      <td>5.150833</td>\n",
       "    </tr>\n",
       "    <tr>\n",
       "      <th>2022-02-27</th>\n",
       "      <td>1334.00</td>\n",
       "      <td>5.664583</td>\n",
       "      <td>0.662917</td>\n",
       "      <td>1023.250000</td>\n",
       "      <td>71.291667</td>\n",
       "      <td>5.717917</td>\n",
       "    </tr>\n",
       "    <tr>\n",
       "      <th>2022-02-28</th>\n",
       "      <td>1866.25</td>\n",
       "      <td>7.960833</td>\n",
       "      <td>5.926250</td>\n",
       "      <td>1022.083333</td>\n",
       "      <td>87.083333</td>\n",
       "      <td>4.866250</td>\n",
       "    </tr>\n",
       "    <tr>\n",
       "      <th>2022-03-01</th>\n",
       "      <td>457.50</td>\n",
       "      <td>6.386250</td>\n",
       "      <td>4.860000</td>\n",
       "      <td>1027.291667</td>\n",
       "      <td>90.041667</td>\n",
       "      <td>5.256667</td>\n",
       "    </tr>\n",
       "  </tbody>\n",
       "</table>\n",
       "</div>"
      ],
      "text/plain": [
       "              value      temp  dew_point     pressure   humidity  wind_speed\n",
       "Datetime                                                                    \n",
       "2022-02-25  2090.00  6.274167   2.117083  1024.291667  75.083333    5.198333\n",
       "2022-02-26  1464.25  5.840417   1.968750  1028.250000  76.916667    5.150833\n",
       "2022-02-27  1334.00  5.664583   0.662917  1023.250000  71.291667    5.717917\n",
       "2022-02-28  1866.25  7.960833   5.926250  1022.083333  87.083333    4.866250\n",
       "2022-03-01   457.50  6.386250   4.860000  1027.291667  90.041667    5.256667"
      ]
     },
     "execution_count": 1,
     "metadata": {},
     "output_type": "execute_result"
    }
   ],
   "source": [
    "import pandas as pd\n",
    "import matplotlib.pyplot as plt\n",
    "plt.rcParams[\"figure.figsize\"] = (20,9)\n",
    "plt.style.use('bmh')\n",
    "import numpy as np\n",
    "from sklearn.ensemble import *\n",
    "import seaborn as sns\n",
    "\n",
    "\n",
    "data = pd.read_csv('C:\\\\Users\\\\moham\\\\OneDrive - De Montfort University\\\\Final Project\\\\Master_Thesis\\\\Dataset\\\\QBElecWeatherDailyData.csv',\n",
    " index_col=0, parse_dates=True)\n",
    "\n",
    "cols = data.columns\n",
    "\n",
    "data.tail()"
   ]
  },
  {
   "cell_type": "code",
   "execution_count": 2,
   "metadata": {},
   "outputs": [
    {
     "data": {
      "text/html": [
       "<div>\n",
       "<style scoped>\n",
       "    .dataframe tbody tr th:only-of-type {\n",
       "        vertical-align: middle;\n",
       "    }\n",
       "\n",
       "    .dataframe tbody tr th {\n",
       "        vertical-align: top;\n",
       "    }\n",
       "\n",
       "    .dataframe thead th {\n",
       "        text-align: right;\n",
       "    }\n",
       "</style>\n",
       "<table border=\"1\" class=\"dataframe\">\n",
       "  <thead>\n",
       "    <tr style=\"text-align: right;\">\n",
       "      <th></th>\n",
       "      <th>value</th>\n",
       "      <th>temp</th>\n",
       "      <th>dew_point</th>\n",
       "      <th>pressure</th>\n",
       "      <th>humidity</th>\n",
       "      <th>wind_speed</th>\n",
       "    </tr>\n",
       "  </thead>\n",
       "  <tbody>\n",
       "    <tr>\n",
       "      <th>count</th>\n",
       "      <td>5112.000000</td>\n",
       "      <td>5112.000000</td>\n",
       "      <td>5112.000000</td>\n",
       "      <td>5112.000000</td>\n",
       "      <td>5112.000000</td>\n",
       "      <td>5112.000000</td>\n",
       "    </tr>\n",
       "    <tr>\n",
       "      <th>mean</th>\n",
       "      <td>2536.693891</td>\n",
       "      <td>10.450578</td>\n",
       "      <td>7.288458</td>\n",
       "      <td>1014.369938</td>\n",
       "      <td>81.968717</td>\n",
       "      <td>4.415995</td>\n",
       "    </tr>\n",
       "    <tr>\n",
       "      <th>std</th>\n",
       "      <td>661.905452</td>\n",
       "      <td>5.351245</td>\n",
       "      <td>4.738956</td>\n",
       "      <td>11.007041</td>\n",
       "      <td>8.490008</td>\n",
       "      <td>1.797710</td>\n",
       "    </tr>\n",
       "    <tr>\n",
       "      <th>min</th>\n",
       "      <td>457.500000</td>\n",
       "      <td>-6.250000</td>\n",
       "      <td>-6.898750</td>\n",
       "      <td>968.916667</td>\n",
       "      <td>53.083333</td>\n",
       "      <td>0.822917</td>\n",
       "    </tr>\n",
       "    <tr>\n",
       "      <th>25%</th>\n",
       "      <td>2064.414250</td>\n",
       "      <td>6.446667</td>\n",
       "      <td>3.754896</td>\n",
       "      <td>1007.708333</td>\n",
       "      <td>75.833333</td>\n",
       "      <td>3.082708</td>\n",
       "    </tr>\n",
       "    <tr>\n",
       "      <th>50%</th>\n",
       "      <td>2522.123500</td>\n",
       "      <td>10.483125</td>\n",
       "      <td>7.496667</td>\n",
       "      <td>1015.437500</td>\n",
       "      <td>82.375000</td>\n",
       "      <td>4.195000</td>\n",
       "    </tr>\n",
       "    <tr>\n",
       "      <th>75%</th>\n",
       "      <td>3009.061000</td>\n",
       "      <td>14.720104</td>\n",
       "      <td>11.012292</td>\n",
       "      <td>1021.802083</td>\n",
       "      <td>88.458333</td>\n",
       "      <td>5.531458</td>\n",
       "    </tr>\n",
       "    <tr>\n",
       "      <th>max</th>\n",
       "      <td>4203.074000</td>\n",
       "      <td>26.625417</td>\n",
       "      <td>18.644167</td>\n",
       "      <td>1047.125000</td>\n",
       "      <td>100.000000</td>\n",
       "      <td>12.804583</td>\n",
       "    </tr>\n",
       "  </tbody>\n",
       "</table>\n",
       "</div>"
      ],
      "text/plain": [
       "             value         temp    dew_point     pressure     humidity  \\\n",
       "count  5112.000000  5112.000000  5112.000000  5112.000000  5112.000000   \n",
       "mean   2536.693891    10.450578     7.288458  1014.369938    81.968717   \n",
       "std     661.905452     5.351245     4.738956    11.007041     8.490008   \n",
       "min     457.500000    -6.250000    -6.898750   968.916667    53.083333   \n",
       "25%    2064.414250     6.446667     3.754896  1007.708333    75.833333   \n",
       "50%    2522.123500    10.483125     7.496667  1015.437500    82.375000   \n",
       "75%    3009.061000    14.720104    11.012292  1021.802083    88.458333   \n",
       "max    4203.074000    26.625417    18.644167  1047.125000   100.000000   \n",
       "\n",
       "        wind_speed  \n",
       "count  5112.000000  \n",
       "mean      4.415995  \n",
       "std       1.797710  \n",
       "min       0.822917  \n",
       "25%       3.082708  \n",
       "50%       4.195000  \n",
       "75%       5.531458  \n",
       "max      12.804583  "
      ]
     },
     "execution_count": 2,
     "metadata": {},
     "output_type": "execute_result"
    }
   ],
   "source": [
    "data.describe()"
   ]
  },
  {
   "cell_type": "code",
   "execution_count": 3,
   "metadata": {},
   "outputs": [],
   "source": [
    "from sklearn.model_selection import *\n",
    "\n",
    "X = data.drop('value', axis=1)\n",
    "y = data['value']\n",
    "\n",
    "X_train,X_test,y_train,y_test = train_test_split(X,y,test_size=0.2)"
   ]
  },
  {
   "cell_type": "code",
   "execution_count": 4,
   "metadata": {},
   "outputs": [
    {
     "data": {
      "text/plain": [
       "((4089, 5), (4089,))"
      ]
     },
     "execution_count": 4,
     "metadata": {},
     "output_type": "execute_result"
    }
   ],
   "source": [
    "X_train.shape, y_train.shape"
   ]
  },
  {
   "cell_type": "code",
   "execution_count": 5,
   "metadata": {},
   "outputs": [
    {
     "name": "stderr",
     "output_type": "stream",
     "text": [
      "C:\\Users\\moham\\AppData\\Local\\Programs\\Python\\Python39\\lib\\site-packages\\xgboost\\compat.py:36: FutureWarning: pandas.Int64Index is deprecated and will be removed from pandas in a future version. Use pandas.Index with the appropriate dtype instead.\n",
      "  from pandas import MultiIndex, Int64Index\n",
      "C:\\Users\\moham\\AppData\\Local\\Programs\\Python\\Python39\\lib\\site-packages\\xgboost\\data.py:262: FutureWarning: pandas.Int64Index is deprecated and will be removed from pandas in a future version. Use pandas.Index with the appropriate dtype instead.\n",
      "  elif isinstance(data.columns, (pd.Int64Index, pd.RangeIndex)):\n"
     ]
    },
    {
     "data": {
      "text/plain": [
       "XGBRegressor(base_score=0.5, booster='gbtree', colsample_bylevel=1,\n",
       "             colsample_bynode=1, colsample_bytree=1, enable_categorical=False,\n",
       "             gamma=0, gpu_id=-1, importance_type=None,\n",
       "             interaction_constraints='', learning_rate=0.1, max_delta_step=0,\n",
       "             max_depth=7, min_child_weight=1, missing=nan,\n",
       "             monotone_constraints='()', n_estimators=1000, n_jobs=12,\n",
       "             num_parallel_tree=1, predictor='auto', random_state=0, reg_alpha=0,\n",
       "             reg_lambda=1, scale_pos_weight=1, subsample=0.5,\n",
       "             tree_method='exact', validate_parameters=1, verbosity=None)"
      ]
     },
     "execution_count": 5,
     "metadata": {},
     "output_type": "execute_result"
    }
   ],
   "source": [
    "from xgboost import XGBRegressor\n",
    "\n",
    "xgb = XGBRegressor(objective='reg:squarederror',\n",
    "    n_estimators=1000,\n",
    "    learning_rate=0.1,\n",
    "    subsample=0.5,\n",
    "    colsample_bytree=1, \n",
    "    max_depth=7,\n",
    ")\n",
    "\n",
    "xgb.fit(X_train, y_train,\n",
    "        eval_set=[(X_train, y_train), (X_test, y_test)],\n",
    "        early_stopping_rounds=50,\n",
    "        verbose=False)"
   ]
  },
  {
   "cell_type": "code",
   "execution_count": 6,
   "metadata": {},
   "outputs": [
    {
     "data": {
      "text/plain": [
       "<AxesSubplot:title={'center':'Feature importance'}, xlabel='F score', ylabel='Features'>"
      ]
     },
     "execution_count": 6,
     "metadata": {},
     "output_type": "execute_result"
    },
    {
     "data": {
      "image/png": "[encoded data removed]",
      "text/plain": [
       "<Figure size 1440x648 with 1 Axes>"
      ]
     },
     "metadata": {
      "needs_background": "light"
     },
     "output_type": "display_data"
    }
   ],
   "source": [
    "from xgboost import plot_importance\n",
    "\n",
    "feature_importance = plot_importance(xgb, height=0.9)\n",
    "feature_importance"
   ]
  },
  {
   "cell_type": "code",
   "execution_count": 7,
   "metadata": {},
   "outputs": [
    {
     "name": "stderr",
     "output_type": "stream",
     "text": [
      "C:\\Users\\moham\\AppData\\Local\\Programs\\Python\\Python39\\lib\\site-packages\\seaborn\\_decorators.py:36: FutureWarning: Pass the following variables as keyword args: x, y. From version 0.12, the only valid positional argument will be `data`, and passing other arguments without an explicit keyword will result in an error or misinterpretation.\n",
      "  warnings.warn(\n"
     ]
    },
    {
     "data": {
      "image/png": "[encoded data removed]",
      "text/plain": [
       "<Figure size 720x720 with 1 Axes>"
      ]
     },
     "metadata": {
      "needs_background": "light"
     },
     "output_type": "display_data"
    }
   ],
   "source": [
    "regr = RandomForestRegressor(max_depth=10, n_estimators = 1000)\n",
    "regr.fit(data[cols[1:len(cols)-1]], data['value'])\n",
    "\n",
    "importances = regr.feature_importances_*100\n",
    "\n",
    "plt.figure(figsize=(10,10))\n",
    "sns.barplot(cols[1:len(cols)-1],importances)\n",
    "plt.xlabel('Features',fontsize=16, ha='center')\n",
    "plt.ylabel('%',fontsize=18, ha='center')\n",
    "plt.title('Feature Importance',fontsize=20, ha='center')\n",
    "plt.xticks(rotation='vertical')\n",
    "plt.tick_params(labelsize=14)"
   ]
  },
  {
   "cell_type": "code",
   "execution_count": 8,
   "metadata": {},
   "outputs": [
    {
     "data": {
      "text/html": [
       "<div>\n",
       "<style scoped>\n",
       "    .dataframe tbody tr th:only-of-type {\n",
       "        vertical-align: middle;\n",
       "    }\n",
       "\n",
       "    .dataframe tbody tr th {\n",
       "        vertical-align: top;\n",
       "    }\n",
       "\n",
       "    .dataframe thead th {\n",
       "        text-align: right;\n",
       "    }\n",
       "</style>\n",
       "<table border=\"1\" class=\"dataframe\">\n",
       "  <thead>\n",
       "    <tr style=\"text-align: right;\">\n",
       "      <th></th>\n",
       "      <th>value</th>\n",
       "      <th>temp</th>\n",
       "      <th>dew_point</th>\n",
       "      <th>pressure</th>\n",
       "      <th>humidity</th>\n",
       "      <th>wind_speed</th>\n",
       "    </tr>\n",
       "    <tr>\n",
       "      <th>Datetime</th>\n",
       "      <th></th>\n",
       "      <th></th>\n",
       "      <th></th>\n",
       "      <th></th>\n",
       "      <th></th>\n",
       "      <th></th>\n",
       "    </tr>\n",
       "  </thead>\n",
       "  <tbody>\n",
       "    <tr>\n",
       "      <th>2022-02-25</th>\n",
       "      <td>3794.0</td>\n",
       "      <td>6.274167</td>\n",
       "      <td>2.117083</td>\n",
       "      <td>1024.291667</td>\n",
       "      <td>75.083333</td>\n",
       "      <td>5.198333</td>\n",
       "    </tr>\n",
       "    <tr>\n",
       "      <th>2022-02-26</th>\n",
       "      <td>1894.0</td>\n",
       "      <td>5.840417</td>\n",
       "      <td>1.968750</td>\n",
       "      <td>1028.250000</td>\n",
       "      <td>76.916667</td>\n",
       "      <td>5.150833</td>\n",
       "    </tr>\n",
       "    <tr>\n",
       "      <th>2022-02-27</th>\n",
       "      <td>1626.0</td>\n",
       "      <td>5.664583</td>\n",
       "      <td>0.662917</td>\n",
       "      <td>1023.250000</td>\n",
       "      <td>71.291667</td>\n",
       "      <td>5.717917</td>\n",
       "    </tr>\n",
       "    <tr>\n",
       "      <th>2022-02-28</th>\n",
       "      <td>3679.0</td>\n",
       "      <td>7.960833</td>\n",
       "      <td>5.926250</td>\n",
       "      <td>1022.083333</td>\n",
       "      <td>87.083333</td>\n",
       "      <td>4.866250</td>\n",
       "    </tr>\n",
       "    <tr>\n",
       "      <th>2022-03-01</th>\n",
       "      <td>509.0</td>\n",
       "      <td>6.386250</td>\n",
       "      <td>4.860000</td>\n",
       "      <td>1027.291667</td>\n",
       "      <td>90.041667</td>\n",
       "      <td>5.256667</td>\n",
       "    </tr>\n",
       "  </tbody>\n",
       "</table>\n",
       "</div>"
      ],
      "text/plain": [
       "             value      temp  dew_point     pressure   humidity  wind_speed\n",
       "Datetime                                                                   \n",
       "2022-02-25  3794.0  6.274167   2.117083  1024.291667  75.083333    5.198333\n",
       "2022-02-26  1894.0  5.840417   1.968750  1028.250000  76.916667    5.150833\n",
       "2022-02-27  1626.0  5.664583   0.662917  1023.250000  71.291667    5.717917\n",
       "2022-02-28  3679.0  7.960833   5.926250  1022.083333  87.083333    4.866250\n",
       "2022-03-01   509.0  6.386250   4.860000  1027.291667  90.041667    5.256667"
      ]
     },
     "execution_count": 8,
     "metadata": {},
     "output_type": "execute_result"
    }
   ],
   "source": [
    "data1 = pd.read_csv('C:\\\\Users\\\\moham\\\\OneDrive - De Montfort University\\\\Final Project\\\\Master_Thesis\\\\Dataset\\\\HUElecWeatherDailyData.csv',\n",
    " index_col=0, parse_dates=True)\n",
    "\n",
    "cols1 = data1.columns\n",
    "\n",
    "data1.tail()"
   ]
  },
  {
   "cell_type": "code",
   "execution_count": 9,
   "metadata": {},
   "outputs": [
    {
     "data": {
      "text/html": [
       "<div>\n",
       "<style scoped>\n",
       "    .dataframe tbody tr th:only-of-type {\n",
       "        vertical-align: middle;\n",
       "    }\n",
       "\n",
       "    .dataframe tbody tr th {\n",
       "        vertical-align: top;\n",
       "    }\n",
       "\n",
       "    .dataframe thead th {\n",
       "        text-align: right;\n",
       "    }\n",
       "</style>\n",
       "<table border=\"1\" class=\"dataframe\">\n",
       "  <thead>\n",
       "    <tr style=\"text-align: right;\">\n",
       "      <th></th>\n",
       "      <th>value</th>\n",
       "      <th>temp</th>\n",
       "      <th>dew_point</th>\n",
       "      <th>pressure</th>\n",
       "      <th>humidity</th>\n",
       "      <th>wind_speed</th>\n",
       "    </tr>\n",
       "  </thead>\n",
       "  <tbody>\n",
       "    <tr>\n",
       "      <th>count</th>\n",
       "      <td>4419.000000</td>\n",
       "      <td>4419.000000</td>\n",
       "      <td>4419.000000</td>\n",
       "      <td>4419.000000</td>\n",
       "      <td>4419.000000</td>\n",
       "      <td>4419.000000</td>\n",
       "    </tr>\n",
       "    <tr>\n",
       "      <th>mean</th>\n",
       "      <td>3017.201486</td>\n",
       "      <td>10.464189</td>\n",
       "      <td>7.242370</td>\n",
       "      <td>1014.520310</td>\n",
       "      <td>81.650901</td>\n",
       "      <td>4.403763</td>\n",
       "    </tr>\n",
       "    <tr>\n",
       "      <th>std</th>\n",
       "      <td>833.976336</td>\n",
       "      <td>5.337680</td>\n",
       "      <td>4.727393</td>\n",
       "      <td>10.971518</td>\n",
       "      <td>8.564454</td>\n",
       "      <td>1.806147</td>\n",
       "    </tr>\n",
       "    <tr>\n",
       "      <th>min</th>\n",
       "      <td>0.000000</td>\n",
       "      <td>-6.250000</td>\n",
       "      <td>-6.898750</td>\n",
       "      <td>972.791667</td>\n",
       "      <td>53.083333</td>\n",
       "      <td>0.822917</td>\n",
       "    </tr>\n",
       "    <tr>\n",
       "      <th>25%</th>\n",
       "      <td>2357.784000</td>\n",
       "      <td>6.441458</td>\n",
       "      <td>3.706875</td>\n",
       "      <td>1007.895833</td>\n",
       "      <td>75.479167</td>\n",
       "      <td>3.055000</td>\n",
       "    </tr>\n",
       "    <tr>\n",
       "      <th>50%</th>\n",
       "      <td>3087.439000</td>\n",
       "      <td>10.434167</td>\n",
       "      <td>7.388333</td>\n",
       "      <td>1015.541667</td>\n",
       "      <td>82.125000</td>\n",
       "      <td>4.162917</td>\n",
       "    </tr>\n",
       "    <tr>\n",
       "      <th>75%</th>\n",
       "      <td>3706.610500</td>\n",
       "      <td>14.723125</td>\n",
       "      <td>10.979792</td>\n",
       "      <td>1021.875000</td>\n",
       "      <td>88.166667</td>\n",
       "      <td>5.518125</td>\n",
       "    </tr>\n",
       "    <tr>\n",
       "      <th>max</th>\n",
       "      <td>5129.521000</td>\n",
       "      <td>26.625417</td>\n",
       "      <td>18.644167</td>\n",
       "      <td>1047.125000</td>\n",
       "      <td>100.000000</td>\n",
       "      <td>12.804583</td>\n",
       "    </tr>\n",
       "  </tbody>\n",
       "</table>\n",
       "</div>"
      ],
      "text/plain": [
       "             value         temp    dew_point     pressure     humidity  \\\n",
       "count  4419.000000  4419.000000  4419.000000  4419.000000  4419.000000   \n",
       "mean   3017.201486    10.464189     7.242370  1014.520310    81.650901   \n",
       "std     833.976336     5.337680     4.727393    10.971518     8.564454   \n",
       "min       0.000000    -6.250000    -6.898750   972.791667    53.083333   \n",
       "25%    2357.784000     6.441458     3.706875  1007.895833    75.479167   \n",
       "50%    3087.439000    10.434167     7.388333  1015.541667    82.125000   \n",
       "75%    3706.610500    14.723125    10.979792  1021.875000    88.166667   \n",
       "max    5129.521000    26.625417    18.644167  1047.125000   100.000000   \n",
       "\n",
       "        wind_speed  \n",
       "count  4419.000000  \n",
       "mean      4.403763  \n",
       "std       1.806147  \n",
       "min       0.822917  \n",
       "25%       3.055000  \n",
       "50%       4.162917  \n",
       "75%       5.518125  \n",
       "max      12.804583  "
      ]
     },
     "execution_count": 9,
     "metadata": {},
     "output_type": "execute_result"
    }
   ],
   "source": [
    "data1.describe()"
   ]
  },
  {
   "cell_type": "code",
   "execution_count": 10,
   "metadata": {},
   "outputs": [],
   "source": [
    "from sklearn.model_selection import *\n",
    "\n",
    "X = data1.drop('value', axis=1)\n",
    "y = data1['value']\n",
    "\n",
    "X_train1,X_test1,y_train1,y_test1 = train_test_split(X,y,test_size=0.2)"
   ]
  },
  {
   "cell_type": "code",
   "execution_count": 11,
   "metadata": {},
   "outputs": [
    {
     "name": "stderr",
     "output_type": "stream",
     "text": [
      "C:\\Users\\moham\\AppData\\Local\\Programs\\Python\\Python39\\lib\\site-packages\\xgboost\\data.py:262: FutureWarning: pandas.Int64Index is deprecated and will be removed from pandas in a future version. Use pandas.Index with the appropriate dtype instead.\n",
      "  elif isinstance(data.columns, (pd.Int64Index, pd.RangeIndex)):\n"
     ]
    },
    {
     "data": {
      "text/plain": [
       "XGBRegressor(base_score=0.5, booster='gbtree', colsample_bylevel=1,\n",
       "             colsample_bynode=1, colsample_bytree=1, enable_categorical=False,\n",
       "             gamma=0, gpu_id=-1, importance_type=None,\n",
       "             interaction_constraints='', learning_rate=0.1, max_delta_step=0,\n",
       "             max_depth=7, min_child_weight=1, missing=nan,\n",
       "             monotone_constraints='()', n_estimators=1000, n_jobs=12,\n",
       "             num_parallel_tree=1, predictor='auto', random_state=0, reg_alpha=0,\n",
       "             reg_lambda=1, scale_pos_weight=1, subsample=0.5,\n",
       "             tree_method='exact', validate_parameters=1, verbosity=None)"
      ]
     },
     "execution_count": 11,
     "metadata": {},
     "output_type": "execute_result"
    }
   ],
   "source": [
    "xgb1 = XGBRegressor(objective='reg:squarederror',\n",
    "    n_estimators=1000,\n",
    "    learning_rate=0.1,\n",
    "    subsample=0.5,\n",
    "    colsample_bytree=1, \n",
    "    max_depth=7,\n",
    ")\n",
    "\n",
    "xgb1.fit(X_train1, y_train1,\n",
    "        eval_set=[(X_train1, y_train1), (X_test1, y_test1)],\n",
    "        early_stopping_rounds=50,\n",
    "        verbose=False)"
   ]
  },
  {
   "cell_type": "code",
   "execution_count": 12,
   "metadata": {},
   "outputs": [
    {
     "data": {
      "text/plain": [
       "<AxesSubplot:title={'center':'Feature importance'}, xlabel='F score', ylabel='Features'>"
      ]
     },
     "execution_count": 12,
     "metadata": {},
     "output_type": "execute_result"
    },
    {
     "data": {
      "image/png": "[encoded data removed]",
      "text/plain": [
       "<Figure size 1440x648 with 1 Axes>"
      ]
     },
     "metadata": {
      "needs_background": "light"
     },
     "output_type": "display_data"
    }
   ],
   "source": [
    "from xgboost import plot_importance\n",
    "\n",
    "feature_importance = plot_importance(xgb1, height=0.9)\n",
    "feature_importance"
   ]
  },
  {
   "cell_type": "code",
   "execution_count": 13,
   "metadata": {},
   "outputs": [
    {
     "name": "stderr",
     "output_type": "stream",
     "text": [
      "C:\\Users\\moham\\AppData\\Local\\Programs\\Python\\Python39\\lib\\site-packages\\seaborn\\_decorators.py:36: FutureWarning: Pass the following variables as keyword args: x, y. From version 0.12, the only valid positional argument will be `data`, and passing other arguments without an explicit keyword will result in an error or misinterpretation.\n",
      "  warnings.warn(\n"
     ]
    },
    {
     "data": {
      "image/png": "[encoded data removed]",
      "text/plain": [
       "<Figure size 720x720 with 1 Axes>"
      ]
     },
     "metadata": {
      "needs_background": "light"
     },
     "output_type": "display_data"
    }
   ],
   "source": [
    "regr1 = RandomForestRegressor(max_depth=10, n_estimators = 1000)\n",
    "regr1.fit(data1[cols1[1:len(cols1)-1]], data1['value'])\n",
    "\n",
    "importances1 = regr1.feature_importances_*100\n",
    "\n",
    "plt.figure(figsize=(10,10))\n",
    "sns.barplot(cols1[1:len(cols1)-1],importances1)\n",
    "plt.xlabel('Features',fontsize=16, ha='center')\n",
    "plt.ylabel('%',fontsize=18, ha='center')\n",
    "plt.title('Feature Importance',fontsize=20, ha='center')\n",
    "plt.xticks(rotation='vertical')\n",
    "plt.tick_params(labelsize=14)"
   ]
  },
  {
   "cell_type": "code",
   "execution_count": 14,
   "metadata": {},
   "outputs": [
    {
     "data": {
      "text/html": [
       "<div>\n",
       "<style scoped>\n",
       "    .dataframe tbody tr th:only-of-type {\n",
       "        vertical-align: middle;\n",
       "    }\n",
       "\n",
       "    .dataframe tbody tr th {\n",
       "        vertical-align: top;\n",
       "    }\n",
       "\n",
       "    .dataframe thead th {\n",
       "        text-align: right;\n",
       "    }\n",
       "</style>\n",
       "<table border=\"1\" class=\"dataframe\">\n",
       "  <thead>\n",
       "    <tr style=\"text-align: right;\">\n",
       "      <th></th>\n",
       "      <th>value</th>\n",
       "      <th>temp</th>\n",
       "      <th>dew_point</th>\n",
       "      <th>pressure</th>\n",
       "      <th>humidity</th>\n",
       "      <th>wind_speed</th>\n",
       "    </tr>\n",
       "    <tr>\n",
       "      <th>Datetime</th>\n",
       "      <th></th>\n",
       "      <th></th>\n",
       "      <th></th>\n",
       "      <th></th>\n",
       "      <th></th>\n",
       "      <th></th>\n",
       "    </tr>\n",
       "  </thead>\n",
       "  <tbody>\n",
       "    <tr>\n",
       "      <th>2022-02-24</th>\n",
       "      <td>2747.04</td>\n",
       "      <td>5.173333</td>\n",
       "      <td>1.981667</td>\n",
       "      <td>1008.750000</td>\n",
       "      <td>80.208333</td>\n",
       "      <td>7.111667</td>\n",
       "    </tr>\n",
       "    <tr>\n",
       "      <th>2022-02-25</th>\n",
       "      <td>2469.20</td>\n",
       "      <td>6.274167</td>\n",
       "      <td>2.117083</td>\n",
       "      <td>1024.291667</td>\n",
       "      <td>75.083333</td>\n",
       "      <td>5.198333</td>\n",
       "    </tr>\n",
       "    <tr>\n",
       "      <th>2022-02-26</th>\n",
       "      <td>1410.44</td>\n",
       "      <td>5.840417</td>\n",
       "      <td>1.968750</td>\n",
       "      <td>1028.250000</td>\n",
       "      <td>76.916667</td>\n",
       "      <td>5.150833</td>\n",
       "    </tr>\n",
       "    <tr>\n",
       "      <th>2022-02-27</th>\n",
       "      <td>1393.84</td>\n",
       "      <td>5.664583</td>\n",
       "      <td>0.662917</td>\n",
       "      <td>1023.250000</td>\n",
       "      <td>71.291667</td>\n",
       "      <td>5.717917</td>\n",
       "    </tr>\n",
       "    <tr>\n",
       "      <th>2022-02-28</th>\n",
       "      <td>496.56</td>\n",
       "      <td>7.960833</td>\n",
       "      <td>5.926250</td>\n",
       "      <td>1022.083333</td>\n",
       "      <td>87.083333</td>\n",
       "      <td>4.866250</td>\n",
       "    </tr>\n",
       "  </tbody>\n",
       "</table>\n",
       "</div>"
      ],
      "text/plain": [
       "              value      temp  dew_point     pressure   humidity  wind_speed\n",
       "Datetime                                                                    \n",
       "2022-02-24  2747.04  5.173333   1.981667  1008.750000  80.208333    7.111667\n",
       "2022-02-25  2469.20  6.274167   2.117083  1024.291667  75.083333    5.198333\n",
       "2022-02-26  1410.44  5.840417   1.968750  1028.250000  76.916667    5.150833\n",
       "2022-02-27  1393.84  5.664583   0.662917  1023.250000  71.291667    5.717917\n",
       "2022-02-28   496.56  7.960833   5.926250  1022.083333  87.083333    4.866250"
      ]
     },
     "execution_count": 14,
     "metadata": {},
     "output_type": "execute_result"
    }
   ],
   "source": [
    "data2 = pd.read_csv('C:\\\\Users\\\\moham\\\\OneDrive - De Montfort University\\\\Final Project\\\\Master_Thesis\\\\Dataset\\\\GTWYElecWeatherDailyData.csv',\n",
    " index_col=0, parse_dates=True)\n",
    "\n",
    "cols2 = data2.columns\n",
    "\n",
    "data2.tail()"
   ]
  },
  {
   "cell_type": "code",
   "execution_count": 15,
   "metadata": {},
   "outputs": [
    {
     "data": {
      "text/html": [
       "<div>\n",
       "<style scoped>\n",
       "    .dataframe tbody tr th:only-of-type {\n",
       "        vertical-align: middle;\n",
       "    }\n",
       "\n",
       "    .dataframe tbody tr th {\n",
       "        vertical-align: top;\n",
       "    }\n",
       "\n",
       "    .dataframe thead th {\n",
       "        text-align: right;\n",
       "    }\n",
       "</style>\n",
       "<table border=\"1\" class=\"dataframe\">\n",
       "  <thead>\n",
       "    <tr style=\"text-align: right;\">\n",
       "      <th></th>\n",
       "      <th>value</th>\n",
       "      <th>temp</th>\n",
       "      <th>dew_point</th>\n",
       "      <th>pressure</th>\n",
       "      <th>humidity</th>\n",
       "      <th>wind_speed</th>\n",
       "    </tr>\n",
       "  </thead>\n",
       "  <tbody>\n",
       "    <tr>\n",
       "      <th>count</th>\n",
       "      <td>5046.000000</td>\n",
       "      <td>5046.000000</td>\n",
       "      <td>5046.000000</td>\n",
       "      <td>5046.000000</td>\n",
       "      <td>5046.000000</td>\n",
       "      <td>5046.000000</td>\n",
       "    </tr>\n",
       "    <tr>\n",
       "      <th>mean</th>\n",
       "      <td>3118.024048</td>\n",
       "      <td>10.488704</td>\n",
       "      <td>7.329314</td>\n",
       "      <td>1014.433206</td>\n",
       "      <td>81.992857</td>\n",
       "      <td>4.409243</td>\n",
       "    </tr>\n",
       "    <tr>\n",
       "      <th>std</th>\n",
       "      <td>1177.465872</td>\n",
       "      <td>5.362652</td>\n",
       "      <td>4.741149</td>\n",
       "      <td>10.974983</td>\n",
       "      <td>8.514411</td>\n",
       "      <td>1.794714</td>\n",
       "    </tr>\n",
       "    <tr>\n",
       "      <th>min</th>\n",
       "      <td>0.000000</td>\n",
       "      <td>-6.250000</td>\n",
       "      <td>-6.898750</td>\n",
       "      <td>972.791667</td>\n",
       "      <td>53.083333</td>\n",
       "      <td>0.822917</td>\n",
       "    </tr>\n",
       "    <tr>\n",
       "      <th>25%</th>\n",
       "      <td>2161.574500</td>\n",
       "      <td>6.466562</td>\n",
       "      <td>3.798958</td>\n",
       "      <td>1007.833333</td>\n",
       "      <td>75.833333</td>\n",
       "      <td>3.077500</td>\n",
       "    </tr>\n",
       "    <tr>\n",
       "      <th>50%</th>\n",
       "      <td>3004.408000</td>\n",
       "      <td>10.553542</td>\n",
       "      <td>7.568750</td>\n",
       "      <td>1015.479167</td>\n",
       "      <td>82.458333</td>\n",
       "      <td>4.186667</td>\n",
       "    </tr>\n",
       "    <tr>\n",
       "      <th>75%</th>\n",
       "      <td>4134.833250</td>\n",
       "      <td>14.748437</td>\n",
       "      <td>11.052083</td>\n",
       "      <td>1021.833333</td>\n",
       "      <td>88.531250</td>\n",
       "      <td>5.525833</td>\n",
       "    </tr>\n",
       "    <tr>\n",
       "      <th>max</th>\n",
       "      <td>5749.264000</td>\n",
       "      <td>26.625417</td>\n",
       "      <td>18.644167</td>\n",
       "      <td>1047.125000</td>\n",
       "      <td>100.000000</td>\n",
       "      <td>12.804583</td>\n",
       "    </tr>\n",
       "  </tbody>\n",
       "</table>\n",
       "</div>"
      ],
      "text/plain": [
       "             value         temp    dew_point     pressure     humidity  \\\n",
       "count  5046.000000  5046.000000  5046.000000  5046.000000  5046.000000   \n",
       "mean   3118.024048    10.488704     7.329314  1014.433206    81.992857   \n",
       "std    1177.465872     5.362652     4.741149    10.974983     8.514411   \n",
       "min       0.000000    -6.250000    -6.898750   972.791667    53.083333   \n",
       "25%    2161.574500     6.466562     3.798958  1007.833333    75.833333   \n",
       "50%    3004.408000    10.553542     7.568750  1015.479167    82.458333   \n",
       "75%    4134.833250    14.748437    11.052083  1021.833333    88.531250   \n",
       "max    5749.264000    26.625417    18.644167  1047.125000   100.000000   \n",
       "\n",
       "        wind_speed  \n",
       "count  5046.000000  \n",
       "mean      4.409243  \n",
       "std       1.794714  \n",
       "min       0.822917  \n",
       "25%       3.077500  \n",
       "50%       4.186667  \n",
       "75%       5.525833  \n",
       "max      12.804583  "
      ]
     },
     "execution_count": 15,
     "metadata": {},
     "output_type": "execute_result"
    }
   ],
   "source": [
    "data2.describe()"
   ]
  },
  {
   "cell_type": "code",
   "execution_count": 16,
   "metadata": {},
   "outputs": [],
   "source": [
    "from sklearn.model_selection import *\n",
    "\n",
    "X = data2.drop('value', axis=1)\n",
    "y = data2['value']\n",
    "\n",
    "X_train2,X_test2,y_train2,y_test2 = train_test_split(X,y,test_size=0.2)"
   ]
  },
  {
   "cell_type": "code",
   "execution_count": 17,
   "metadata": {},
   "outputs": [
    {
     "name": "stderr",
     "output_type": "stream",
     "text": [
      "C:\\Users\\moham\\AppData\\Local\\Programs\\Python\\Python39\\lib\\site-packages\\xgboost\\data.py:262: FutureWarning: pandas.Int64Index is deprecated and will be removed from pandas in a future version. Use pandas.Index with the appropriate dtype instead.\n",
      "  elif isinstance(data.columns, (pd.Int64Index, pd.RangeIndex)):\n"
     ]
    },
    {
     "data": {
      "text/plain": [
       "XGBRegressor(base_score=0.5, booster='gbtree', colsample_bylevel=1,\n",
       "             colsample_bynode=1, colsample_bytree=1, enable_categorical=False,\n",
       "             gamma=0, gpu_id=-1, importance_type=None,\n",
       "             interaction_constraints='', learning_rate=0.1, max_delta_step=0,\n",
       "             max_depth=7, min_child_weight=1, missing=nan,\n",
       "             monotone_constraints='()', n_estimators=1000, n_jobs=12,\n",
       "             num_parallel_tree=1, predictor='auto', random_state=0, reg_alpha=0,\n",
       "             reg_lambda=1, scale_pos_weight=1, subsample=0.5,\n",
       "             tree_method='exact', validate_parameters=1, verbosity=None)"
      ]
     },
     "execution_count": 17,
     "metadata": {},
     "output_type": "execute_result"
    }
   ],
   "source": [
    "xgb2 = XGBRegressor(objective='reg:squarederror',\n",
    "    n_estimators=1000,\n",
    "    learning_rate=0.1,\n",
    "    subsample=0.5,\n",
    "    colsample_bytree=1, \n",
    "    max_depth=7,\n",
    ")\n",
    "\n",
    "xgb2.fit(X_train2, y_train2,\n",
    "        eval_set=[(X_train2, y_train2), (X_test2, y_test2)],\n",
    "        early_stopping_rounds=50,\n",
    "        verbose=False)"
   ]
  },
  {
   "cell_type": "code",
   "execution_count": 18,
   "metadata": {},
   "outputs": [
    {
     "data": {
      "text/plain": [
       "<AxesSubplot:title={'center':'Feature importance'}, xlabel='F score', ylabel='Features'>"
      ]
     },
     "execution_count": 18,
     "metadata": {},
     "output_type": "execute_result"
    },
    {
     "data": {
      "image/png": "[encoded data removed]",
      "text/plain": [
       "<Figure size 1440x648 with 1 Axes>"
      ]
     },
     "metadata": {
      "needs_background": "light"
     },
     "output_type": "display_data"
    }
   ],
   "source": [
    "from xgboost import plot_importance\n",
    "\n",
    "feature_importance = plot_importance(xgb2, height=0.9)\n",
    "feature_importance"
   ]
  },
  {
   "cell_type": "code",
   "execution_count": 19,
   "metadata": {},
   "outputs": [
    {
     "name": "stderr",
     "output_type": "stream",
     "text": [
      "C:\\Users\\moham\\AppData\\Local\\Programs\\Python\\Python39\\lib\\site-packages\\seaborn\\_decorators.py:36: FutureWarning: Pass the following variables as keyword args: x, y. From version 0.12, the only valid positional argument will be `data`, and passing other arguments without an explicit keyword will result in an error or misinterpretation.\n",
      "  warnings.warn(\n"
     ]
    },
    {
     "data": {
      "image/png": "[encoded data removed]",
      "text/plain": [
       "<Figure size 720x720 with 1 Axes>"
      ]
     },
     "metadata": {
      "needs_background": "light"
     },
     "output_type": "display_data"
    }
   ],
   "source": [
    "regr2 = RandomForestRegressor(max_depth=10, n_estimators = 1000)\n",
    "regr2.fit(data2[cols2[1:len(cols2)-1]], data2['value'])\n",
    "\n",
    "importances2 = regr2.feature_importances_*100\n",
    "\n",
    "plt.figure(figsize=(10,10))\n",
    "sns.barplot(cols2[1:len(cols2)-1],importances2)\n",
    "plt.xlabel('Features',fontsize=16, ha='center')\n",
    "plt.ylabel('%',fontsize=18, ha='center')\n",
    "plt.title('Feature Importance',fontsize=20, ha='center')\n",
    "plt.xticks(rotation='vertical')\n",
    "plt.tick_params(labelsize=14)"
   ]
  }
 ],
 "metadata": {
  "interpreter": {
   "hash": "639f361ad657fd45530bdd3e74f62afebc8edc35ba6ab7eef1042ba440bc9585"
  },
  "kernelspec": {
   "display_name": "Python 3.9.0 64-bit",
   "language": "python",
   "name": "python3"
  },
  "language_info": {
   "codemirror_mode": {
    "name": "ipython",
    "version": 3
   },
   "file_extension": ".py",
   "mimetype": "text/x-python",
   "name": "python",
   "nbconvert_exporter": "python",
   "pygments_lexer": "ipython3",
   "version": "3.9.0"
  },
  "orig_nbformat": 4
 },
 "nbformat": 4,
 "nbformat_minor": 2
}
